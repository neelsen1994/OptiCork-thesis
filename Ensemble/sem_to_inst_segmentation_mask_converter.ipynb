{
 "cells": [
  {
   "cell_type": "code",
   "execution_count": 3,
   "metadata": {},
   "outputs": [
    {
     "name": "stderr",
     "output_type": "stream",
     "text": [
      "/usr/local/lib/python3.6/dist-packages/ipykernel_launcher.py:7: FutureWarning: The behavior of rgb2gray will change in scikit-image 0.19. Currently, rgb2gray allows 2D grayscale image to be passed as inputs and leaves them unmodified as outputs. Starting from version 0.19, 2D arrays will be treated as 1D images with 3 channels.\n",
      "  import sys\n"
     ]
    },
    {
     "data": {
      "text/plain": [
       "(2000, 2000, 1)"
      ]
     },
     "execution_count": 3,
     "metadata": {},
     "output_type": "execute_result"
    }
   ],
   "source": [
    "from skimage import morphology as morph\n",
    "from skimage.io import imread, imsave\n",
    "from skimage.color import rgb2gray\n",
    "import numpy as np\n",
    "import matplotlib.pyplot as plt\n",
    "\n",
    "im = rgb2gray(imread('./sLUel.png'))\n",
    "#im = (im > 0).astype(np.uint8)\n",
    "im=np.expand_dims(im,axis=2)\n",
    "im.shape\n",
    "#labeled = morph.label(morph.binary_opening(im, selem=morph.disk(radius=2)), connectivity=2)\n"
   ]
  },
  {
   "cell_type": "code",
   "execution_count": 5,
   "metadata": {},
   "outputs": [
    {
     "name": "stdout",
     "output_type": "stream",
     "text": [
      "422\n"
     ]
    },
    {
     "data": {
      "text/plain": [
       "(2000, 2000, 421)"
      ]
     },
     "execution_count": 5,
     "metadata": {},
     "output_type": "execute_result"
    }
   ],
   "source": [
    "im=im.squeeze()\n",
    "labeled = morph.label(im, connectivity=2)\n",
    "\n",
    "mask=[]\n",
    "print(len(np.unique(labeled)))\n",
    "for i in np.unique(labeled)[1:]: # skip the first component since it's the background\n",
    "    im_obj = np.zeros(im.shape) \n",
    "    im_obj[labeled == i] = 1\n",
    "    #imsave('sLUel_{:03d}.png'.format(i), im_obj)\n",
    "    mask.append(im_obj)\n",
    "    \n",
    "final=np.stack(mask,axis=2)\n",
    "final.shape\n",
    "#plt.figure(figsize=(20,10))\n",
    "#plt.subplot(121), plt.imshow(im), plt.axis('off'), plt.title('original binary image', size=15)\n",
    "#plt.subplot(122), plt.imshow(labeled, cmap='spectral'), plt.axis('off'), plt.title('connected components (radius 2)', size=15)\n",
    "#plt.show()"
   ]
  },
  {
   "cell_type": "code",
   "execution_count": 21,
   "metadata": {},
   "outputs": [
    {
     "name": "stderr",
     "output_type": "stream",
     "text": [
      "/usr/local/lib/python3.6/dist-packages/ipykernel_launcher.py:4: UserWarning: sLUel_000.png is a low contrast image\n",
      "  after removing the cwd from sys.path.\n",
      "Lossy conversion from float64 to uint8. Range [0, 1]. Convert image to uint8 prior to saving to suppress this warning.\n",
      "/usr/local/lib/python3.6/dist-packages/ipykernel_launcher.py:4: UserWarning: sLUel_001.png is a low contrast image\n",
      "  after removing the cwd from sys.path.\n",
      "Lossy conversion from float64 to uint8. Range [0, 1]. Convert image to uint8 prior to saving to suppress this warning.\n",
      "/usr/local/lib/python3.6/dist-packages/ipykernel_launcher.py:4: UserWarning: sLUel_002.png is a low contrast image\n",
      "  after removing the cwd from sys.path.\n",
      "Lossy conversion from float64 to uint8. Range [0, 1]. Convert image to uint8 prior to saving to suppress this warning.\n",
      "/usr/local/lib/python3.6/dist-packages/ipykernel_launcher.py:4: UserWarning: sLUel_003.png is a low contrast image\n",
      "  after removing the cwd from sys.path.\n",
      "Lossy conversion from float64 to uint8. Range [0, 1]. Convert image to uint8 prior to saving to suppress this warning.\n",
      "/usr/local/lib/python3.6/dist-packages/ipykernel_launcher.py:4: UserWarning: sLUel_004.png is a low contrast image\n",
      "  after removing the cwd from sys.path.\n",
      "Lossy conversion from float64 to uint8. Range [0, 1]. Convert image to uint8 prior to saving to suppress this warning.\n",
      "/usr/local/lib/python3.6/dist-packages/ipykernel_launcher.py:4: UserWarning: sLUel_005.png is a low contrast image\n",
      "  after removing the cwd from sys.path.\n",
      "Lossy conversion from float64 to uint8. Range [0, 1]. Convert image to uint8 prior to saving to suppress this warning.\n",
      "/usr/local/lib/python3.6/dist-packages/ipykernel_launcher.py:4: UserWarning: sLUel_006.png is a low contrast image\n",
      "  after removing the cwd from sys.path.\n",
      "Lossy conversion from float64 to uint8. Range [0, 1]. Convert image to uint8 prior to saving to suppress this warning.\n",
      "/usr/local/lib/python3.6/dist-packages/ipykernel_launcher.py:4: UserWarning: sLUel_007.png is a low contrast image\n",
      "  after removing the cwd from sys.path.\n",
      "Lossy conversion from float64 to uint8. Range [0, 1]. Convert image to uint8 prior to saving to suppress this warning.\n",
      "/usr/local/lib/python3.6/dist-packages/ipykernel_launcher.py:4: UserWarning: sLUel_008.png is a low contrast image\n",
      "  after removing the cwd from sys.path.\n",
      "Lossy conversion from float64 to uint8. Range [0, 1]. Convert image to uint8 prior to saving to suppress this warning.\n",
      "/usr/local/lib/python3.6/dist-packages/ipykernel_launcher.py:4: UserWarning: sLUel_009.png is a low contrast image\n",
      "  after removing the cwd from sys.path.\n",
      "Lossy conversion from float64 to uint8. Range [0, 1]. Convert image to uint8 prior to saving to suppress this warning.\n"
     ]
    }
   ],
   "source": [
    "cnt=0\n",
    "for i in range(final.shape[2]):\n",
    "    cnt=cnt+1\n",
    "    imsave('sLUel_{:03d}.png'.format(i), final[:,:,i])\n",
    "    if cnt==10:\n",
    "        break\n",
    "    \n"
   ]
  }
 ],
 "metadata": {
  "kernelspec": {
   "display_name": "Python 3",
   "language": "python",
   "name": "python3"
  },
  "language_info": {
   "codemirror_mode": {
    "name": "ipython",
    "version": 3
   },
   "file_extension": ".py",
   "mimetype": "text/x-python",
   "name": "python",
   "nbconvert_exporter": "python",
   "pygments_lexer": "ipython3",
   "version": "3.6.9"
  }
 },
 "nbformat": 4,
 "nbformat_minor": 2
}
