{
 "cells": [
  {
   "cell_type": "code",
   "execution_count": null,
   "metadata": {},
   "outputs": [],
   "source": [
    "!pip install tqdm\n"
   ]
  },
  {
   "cell_type": "code",
   "execution_count": null,
   "metadata": {
    "executionInfo": {
     "elapsed": 3412,
     "status": "ok",
     "timestamp": 1618927472008,
     "user": {
      "displayName": "Anupam Kakkar",
      "photoUrl": "",
      "userId": "05029291328344332243"
     },
     "user_tz": -120
    },
    "id": "ZKsgk2QPI3OF"
   },
   "outputs": [],
   "source": [
    "import os\n",
    "import sys\n",
    "import math\n",
    "import json\n",
    "import shutil\n",
    "import pathlib\n",
    "import numpy as np\n",
    "import seaborn as sns\n",
    "import matplotlib.pyplot as plt\n",
    "\n",
    "import tensorflow as tf\n",
    "from tqdm import tqdm, tqdm_notebook\n",
    "\n",
    "sns.set()\n",
    "%matplotlib inline"
   ]
  },
  {
   "cell_type": "code",
   "execution_count": null,
   "metadata": {
    "colab": {
     "base_uri": "https://localhost:8080/"
    },
    "executionInfo": {
     "elapsed": 5394,
     "status": "ok",
     "timestamp": 1618927476512,
     "user": {
      "displayName": "Anupam Kakkar",
      "photoUrl": "",
      "userId": "05029291328344332243"
     },
     "user_tz": -120
    },
    "id": "Mmj64NgMPKyv",
    "outputId": "decfe773-7070-4ad1-a8c3-5d5acb68b579"
   },
   "outputs": [],
   "source": [
    "!pip install tf-keras-vis"
   ]
  },
  {
   "cell_type": "markdown",
   "metadata": {
    "id": "s6_9Q6zZIyOO"
   },
   "source": [
    "### Build Dataset"
   ]
  },
  {
   "cell_type": "code",
   "execution_count": null,
   "metadata": {
    "colab": {
     "base_uri": "https://localhost:8080/"
    },
    "executionInfo": {
     "elapsed": 7292,
     "status": "ok",
     "timestamp": 1618937407156,
     "user": {
      "displayName": "Anupam Kakkar",
      "photoUrl": "",
      "userId": "05029291328344332243"
     },
     "user_tz": -120
    },
    "id": "068vKjLgm1qa",
    "outputId": "429bcb12-999e-476f-c417-3218d998456e"
   },
   "outputs": [],
   "source": [
    "!unzip \"/content/drive/MyDrive/anupam/datasets/building_age_network/images/cleaned/BuildingAgeSplit_5CLASS.zip\" -d /home/"
   ]
  },
  {
   "cell_type": "code",
   "execution_count": null,
   "metadata": {
    "id": "-9IvkHf3JCwD"
   },
   "outputs": [],
   "source": [
    "!rm -rf /home/*\n",
    "!cp -r \"/content/drive/My Drive/anupam/datasets/building_age_network/images/cleaned/BuildingAgeSplit_950.zip\" /home/.\n",
    "!unzip -o '/home/BuildingAgeSplit_950.zip' -d '/'"
   ]
  },
  {
   "cell_type": "code",
   "execution_count": null,
   "metadata": {
    "colab": {
     "base_uri": "https://localhost:8080/"
    },
    "executionInfo": {
     "elapsed": 17837,
     "status": "ok",
     "timestamp": 1618927507813,
     "user": {
      "displayName": "Anupam Kakkar",
      "photoUrl": "",
      "userId": "05029291328344332243"
     },
     "user_tz": -120
    },
    "id": "mRSCXAi_JKYK",
    "outputId": "abd1b362-368e-44bf-f810-2acb1375774c"
   },
   "outputs": [],
   "source": [
    "!find /home/BuildingAgeSplit_950/ -name \"*.jpg\" | wc -l"
   ]
  },
  {
   "cell_type": "code",
   "execution_count": null,
   "metadata": {
    "executionInfo": {
     "elapsed": 1788,
     "status": "ok",
     "timestamp": 1618937395644,
     "user": {
      "displayName": "Anupam Kakkar",
      "photoUrl": "",
      "userId": "05029291328344332243"
     },
     "user_tz": -120
    },
    "id": "hCA6mEPlMBde"
   },
   "outputs": [],
   "source": [
    "# !rm -rf /home/home/BuildingAgeSplit_5CLASS/"
   ]
  },
  {
   "cell_type": "code",
   "execution_count": null,
   "metadata": {
    "colab": {
     "base_uri": "https://localhost:8080/"
    },
    "executionInfo": {
     "elapsed": 713,
     "status": "ok",
     "timestamp": 1618937413485,
     "user": {
      "displayName": "Anupam Kakkar",
      "photoUrl": "",
      "userId": "05029291328344332243"
     },
     "user_tz": -120
    },
    "id": "b7ut4tv8nEiM",
    "outputId": "1b8800cc-a5ab-4e31-bf32-1ca884aac7af"
   },
   "outputs": [],
   "source": [
    "!find /home/home/BuildingAgeSplit_5CLASS -name \"*.jpg\" | wc -l"
   ]
  },
  {
   "cell_type": "code",
   "execution_count": null,
   "metadata": {
    "colab": {
     "base_uri": "https://localhost:8080/"
    },
    "executionInfo": {
     "elapsed": 1341,
     "status": "ok",
     "timestamp": 1618937416517,
     "user": {
      "displayName": "Anupam Kakkar",
      "photoUrl": "",
      "userId": "05029291328344332243"
     },
     "user_tz": -120
    },
    "id": "Oms5FfAXJpx2",
    "outputId": "414831a6-8754-469c-f16c-a236b88434f7"
   },
   "outputs": [],
   "source": [
    "# Dataset split ratios\n",
    "np.random.seed(42)\n",
    "VAL_PERC = 0.125\n",
    "TEST_PERC = 0.125\n",
    "TRAIN_PERC = 0.75\n",
    "\n",
    "# Split each folder into train, val and test sets\n",
    "base = pathlib.Path(\"/home/home/BuildingAgeSplit_5CLASS\")\n",
    "base_dirs = [x for x in base.iterdir() if x.is_dir()]\n",
    "labels = [x.stem for x in base.iterdir() if x.is_dir()]\n",
    "base_dirs, labels"
   ]
  },
  {
   "cell_type": "code",
   "execution_count": null,
   "metadata": {
    "colab": {
     "base_uri": "https://localhost:8080/"
    },
    "executionInfo": {
     "elapsed": 1074,
     "status": "ok",
     "timestamp": 1618937418348,
     "user": {
      "displayName": "Anupam Kakkar",
      "photoUrl": "",
      "userId": "05029291328344332243"
     },
     "user_tz": -120
    },
    "id": "d1CG8y9dJtT2",
    "outputId": "20c79f24-cd17-4989-9c1f-978a04ad6c33"
   },
   "outputs": [],
   "source": [
    "# Create directory structure\n",
    "dirs = ['train', 'val', 'test']\n",
    "print(dirs)\n",
    "CLASS_LABELS = np.unique(labels)\n",
    "\n",
    "for dirname in dirs:\n",
    "  cur_dir = base / dirname\n",
    "  # If old data exists, delete it and create a new blank directory\n",
    "  if cur_dir.is_dir():\n",
    "    shutil.rmtree(cur_dir)\n",
    "    print(\"DIR DELETED:\", cur_dir)\n",
    "  os.makedirs(cur_dir)\n",
    "  for label in CLASS_LABELS:\n",
    "    os.makedirs(cur_dir / label)\n",
    "    print(\"DIR MADE FOR\", cur_dir / label)"
   ]
  },
  {
   "cell_type": "code",
   "execution_count": null,
   "metadata": {
    "colab": {
     "base_uri": "https://localhost:8080/"
    },
    "executionInfo": {
     "elapsed": 2243,
     "status": "ok",
     "timestamp": 1618937428037,
     "user": {
      "displayName": "Anupam Kakkar",
      "photoUrl": "",
      "userId": "05029291328344332243"
     },
     "user_tz": -120
    },
    "id": "uV2loEeyJu-J",
    "outputId": "aa104585-82cc-4d90-86b5-00306034163f"
   },
   "outputs": [],
   "source": [
    "# Create data splits and move files\n",
    "# Pick first 782 images\n",
    "for dirname in base_dirs:\n",
    "  images = [x for x in dirname.iterdir() if x.suffix == \".jpg\"]\n",
    "  labels = len(images) * [dirname.stem]\n",
    "  images, labels = np.array(images[:615]), np.array(labels[:615])\n",
    "  # Calculate dataset size for training, validation and test set\n",
    "  train_size = int(len(images) * TRAIN_PERC)\n",
    "  val_size = int(len(images) * VAL_PERC)\n",
    "  test_size = int(len(images) * TEST_PERC)\n",
    "  print(\"[INFO] Split size for: \", dirname, \":\", train_size, val_size, test_size, \n",
    "        (train_size + val_size + test_size))\n",
    "\n",
    "  # Create a random split of files\n",
    "  indices = np.arange(len(labels))\n",
    "  np.random.shuffle(indices)\n",
    "  images_train, labels_train = images[indices[:train_size]], labels[indices[:train_size]]\n",
    "  images_val, labels_val = images[indices[train_size:train_size + val_size]], labels[indices[train_size:train_size + val_size]]\n",
    "  images_test, labels_test = images[indices[train_size + val_size:]], labels[indices[train_size + val_size:]]\n",
    "\n",
    "  # Copy files for each directory\n",
    "  # Train Set\n",
    "  for image, label in zip(images_train, labels_train):\n",
    "    shutil.copyfile(image, base / \"train\" / label / image.name)\n",
    "  print(\"TRAIN : {}, {}\".format(image, label))\n",
    "\n",
    "  # Val Set\n",
    "  for image, label in zip(images_val, labels_val):\n",
    "    shutil.copyfile(image, base / \"val\" / label / image.name)\n",
    "  print(\"VAL : {}, {}\".format(image, label))\n",
    "\n",
    "  # Test Set\n",
    "  for image, label in zip(images_test, labels_test):\n",
    "    shutil.copyfile(image, base / \"test\" / label / image.name)\n",
    "  print(\"TEST : {}, {}\".format(image, label))"
   ]
  },
  {
   "cell_type": "code",
   "execution_count": null,
   "metadata": {
    "colab": {
     "base_uri": "https://localhost:8080/"
    },
    "executionInfo": {
     "elapsed": 726,
     "status": "ok",
     "timestamp": 1618937431645,
     "user": {
      "displayName": "Anupam Kakkar",
      "photoUrl": "",
      "userId": "05029291328344332243"
     },
     "user_tz": -120
    },
    "id": "8xuV8FF-Jxeo",
    "outputId": "d588bfa4-5158-4f4c-da24-230aefedbadf"
   },
   "outputs": [],
   "source": [
    "# Cleanup old directories\n",
    "for dirname in base_dirs:\n",
    "  # If old data exists, delete it\n",
    "  if dirname.is_dir():\n",
    "    shutil.rmtree(dirname)\n",
    "    print(\"DIR DELETED:\", dirname)"
   ]
  },
  {
   "cell_type": "code",
   "execution_count": null,
   "metadata": {
    "colab": {
     "base_uri": "https://localhost:8080/"
    },
    "executionInfo": {
     "elapsed": 691,
     "status": "ok",
     "timestamp": 1618927824698,
     "user": {
      "displayName": "Anupam Kakkar",
      "photoUrl": "",
      "userId": "05029291328344332243"
     },
     "user_tz": -120
    },
    "id": "2h4jgKNTJ-HW",
    "outputId": "7d2ca966-10ae-4403-bb0e-fc5721399c19"
   },
   "outputs": [],
   "source": [
    "!find /home/home/BuildingAgeSplit_4CLASS -name \"*.jpg\" | wc -l"
   ]
  },
  {
   "cell_type": "code",
   "execution_count": null,
   "metadata": {
    "colab": {
     "base_uri": "https://localhost:8080/"
    },
    "executionInfo": {
     "elapsed": 4958,
     "status": "ok",
     "timestamp": 1604917878462,
     "user": {
      "displayName": "Anupam Kakkar",
      "photoUrl": "",
      "userId": "05029291328344332243"
     },
     "user_tz": -330
    },
    "id": "gv7QrklGJ6EH",
    "outputId": "bc01f38d-275e-4c89-e8bc-1ca5ec47c969"
   },
   "outputs": [],
   "source": [
    "# !zip -r /home/BAv5.zip /home/BAv5/\n",
    "# !cp -r /home/BAv5.zip \"/content/drive/My Drive/backup/home/private/datasets/building_age/\""
   ]
  },
  {
   "cell_type": "markdown",
   "metadata": {
    "id": "hgnHmOzhjx0s"
   },
   "source": [
    "### Extract Dataset"
   ]
  },
  {
   "cell_type": "code",
   "execution_count": null,
   "metadata": {
    "colab": {
     "base_uri": "https://localhost:8080/"
    },
    "executionInfo": {
     "elapsed": 7990,
     "status": "ok",
     "timestamp": 1604928457518,
     "user": {
      "displayName": "Anupam Kakkar",
      "photoUrl": "",
      "userId": "05029291328344332243"
     },
     "user_tz": -330
    },
    "id": "JIMmlfbijSxi",
    "outputId": "fcb2c789-d9f8-464d-ee54-d2a07b42aeca"
   },
   "outputs": [],
   "source": [
    "!cp -r \"/content/drive/My Drive/backup/home/private/datasets/building_age/BAv5.zip\" /home/\n",
    "!unzip -o \"/home/BAv5.zip\" /home/"
   ]
  },
  {
   "cell_type": "code",
   "execution_count": null,
   "metadata": {
    "colab": {
     "base_uri": "https://localhost:8080/"
    },
    "executionInfo": {
     "elapsed": 5308,
     "status": "ok",
     "timestamp": 1604917920430,
     "user": {
      "displayName": "Anupam Kakkar",
      "photoUrl": "",
      "userId": "05029291328344332243"
     },
     "user_tz": -330
    },
    "id": "vEgH0CBgjtE1",
    "outputId": "7da4d36c-b1dd-427a-b4a4-0f31bc94aa66"
   },
   "outputs": [],
   "source": [
    "!ls /home/\n",
    "!find /home/home/BAv5/ -name \"*.jpg\" | wc -l"
   ]
  },
  {
   "cell_type": "markdown",
   "metadata": {
    "id": "4sIEUcGBKTZI"
   },
   "source": [
    "### Build **NW**"
   ]
  },
  {
   "cell_type": "code",
   "execution_count": null,
   "metadata": {
    "executionInfo": {
     "elapsed": 764,
     "status": "ok",
     "timestamp": 1618937493939,
     "user": {
      "displayName": "Anupam Kakkar",
      "photoUrl": "",
      "userId": "05029291328344332243"
     },
     "user_tz": -120
    },
    "id": "8KWjstqtKYje"
   },
   "outputs": [],
   "source": [
    "# Imports\n",
    "import os\n",
    "import time\n",
    "import logging\n",
    "import pathlib\n",
    "import numpy as np\n",
    "import tensorflow as tf\n",
    "import matplotlib.pyplot as plt\n",
    "\n",
    "\n",
    "class BuildingAgeNetwork:\n",
    "    def __init__(self, network, ds_num):\n",
    "        # Define logger.\n",
    "        self.logger = logging.getLogger(__name__)\n",
    "        self.logger.setLevel(logging.INFO)\n",
    "        # self.logger = config.start_logging_to_stdout(self.logger)\n",
    "        # self.logger = config.start_logging_to_file(self.logger)\n",
    "\n",
    "        # Define EfficientNet options.\n",
    "        self.image_res_list = [224, 240, 260, 300, 380, 456, 528, 600]\n",
    "        self.network_list = [\n",
    "            \"EfficientNetB0\",\n",
    "            \"EfficientNetB1\",\n",
    "            \"EfficientNetB2\",\n",
    "            \"EfficientNetB3\",\n",
    "            \"EfficientNetB4\",\n",
    "            \"EfficientNetB5\",\n",
    "            \"EfficientNetB6\",\n",
    "            \"EfficientNetB7\",\n",
    "        ]\n",
    "        self.levels_list = [\n",
    "            [\"top\"],\n",
    "            [\"top\", \"block7\"],\n",
    "            [\"top\", \"block7\", \"block6\"],\n",
    "            [\"top\", \"block7\", \"block6\", \"block5\"],\n",
    "            [\"top\", \"block7\", \"block6\", \"block5\", \"block4\"],\n",
    "        ]\n",
    "\n",
    "        # Load config/environment variables.\n",
    "        # self.ds_path = pathlib.Path(os.getenv(\"DATASET_PATH\"))\n",
    "        # self.num_classes = os.getenv(\"DATASET_NUM_CLASSES\")\n",
    "        self.ds_path = pathlib.Path(\"./data\")\n",
    "        timestr = time.strftime(\"%Y%m%d\")\n",
    "        self.ckpt_path = pathlib.Path(\"./model_runs\") / timestr\n",
    "        self.ckpt_path.mkdir(parents=True, exist_ok=True)\n",
    "        label_list = [[\"0\",\"1\",\"2\",\"3\",\"4\"]]\n",
    "        self.ds_labels = label_list[ds_num]\n",
    "        self.num_classes = len(self.ds_labels)\n",
    "\n",
    "        # Define network.\n",
    "        # network_index = int(os.getenv(\"NETWORK_INDEX\"))\n",
    "        self.model_name = self.network_list[network]\n",
    "        self.IMG_HEIGHT = self.IMG_WIDTH = self.image_res_list[network]\n",
    "\n",
    "        # Load default hyperparameters.\n",
    "        self.BATCH_SIZE = 32\n",
    "        self.NUM_EPOCHS = 50\n",
    "        # self.LEARNING_RATE = 9.359659238480389e-05 # 4C\n",
    "        # self.LEARNING_RATE = 5.488401558788082e-05 # 3C\n",
    "        self.LEARNING_RATE = 6.523389943576093e-05 # 5C\n",
    "        self.DROPOUT_RATE = 0.35\n",
    "        self.NUM_CHANNELS = 3\n",
    "        self.INPUT_SHAPE = (self.IMG_HEIGHT, self.IMG_WIDTH, self.NUM_CHANNELS)\n",
    "\n",
    "        # model placeholder.\n",
    "        self.model = None\n",
    "\n",
    "    def make_datasets(self, type):\n",
    "        print(self.ds_path / type)\n",
    "        dataset = tf.keras.preprocessing.image_dataset_from_directory(\n",
    "            directory=(self.ds_path / type),\n",
    "            labels=\"inferred\",\n",
    "            label_mode=\"categorical\",\n",
    "            batch_size=self.BATCH_SIZE,\n",
    "            image_size=(self.IMG_HEIGHT, self.IMG_WIDTH),\n",
    "            shuffle=True,\n",
    "        )\n",
    "        dataset.cache().prefetch(tf.data.experimental.AUTOTUNE)\n",
    "        return dataset\n",
    "\n",
    "    def get_aug(self):\n",
    "        # Define Image Augmentation Strategies\n",
    "        img_augmentation = tf.keras.models.Sequential(\n",
    "            [\n",
    "                tf.keras.layers.experimental.preprocessing.RandomRotation(factor=0.05),\n",
    "                tf.keras.layers.experimental.preprocessing.RandomFlip(\n",
    "                    mode=\"horizontal\"\n",
    "                ),\n",
    "            ],\n",
    "            name=\"img_augmentation\",\n",
    "        )\n",
    "        print(\"Image Augmentation strategy defined.\")\n",
    "        return img_augmentation\n",
    "\n",
    "    def build_and_compile_model(self, ft=True, levels=1):\n",
    "        # Define model inputs.\n",
    "        inputs = tf.keras.layers.Input(self.INPUT_SHAPE)\n",
    "        # Apply data augmentation to inputs.\n",
    "        x = self.get_aug()(inputs)\n",
    "\n",
    "        # Load base model from Keras Applications.\n",
    "        base_model = getattr(tf.keras.applications, self.model_name)(\n",
    "            include_top=False, input_tensor=x, weights=\"imagenet\"\n",
    "        )\n",
    "        # Freeze base model.\n",
    "        base_model.trainable = False\n",
    "\n",
    "        # Unfreeze parts of model.\n",
    "        if ft:\n",
    "            # Set trainable layers, but keep batch norm layers frozen.\n",
    "            for layer in base_model.layers:\n",
    "                if all(\n",
    "                    lname not in layer.name for lname in self.levels_list[levels]\n",
    "                ) or isinstance(layer, tf.keras.layers.BatchNormalization):\n",
    "                    layer.trainable = False\n",
    "                else:\n",
    "                    layer.trainable = True\n",
    "\n",
    "        # Rebuild classifier.\n",
    "        x = tf.keras.layers.GlobalAveragePooling2D(name=\"tl_avgpool\")(base_model.output)\n",
    "        x = tf.keras.layers.Dropout(self.DROPOUT_RATE, name=\"tl_dropout\")(x)\n",
    "        outputs = tf.keras.layers.Dense(\n",
    "            self.num_classes, activation=\"softmax\", name=\"tl_pred\"\n",
    "        )(x)\n",
    "\n",
    "        # Compile model.\n",
    "        model = tf.keras.Model(inputs, outputs, name=self.model_name)\n",
    "        optimizer = tf.keras.optimizers.Adam(learning_rate=self.LEARNING_RATE)\n",
    "        model.compile(\n",
    "            optimizer=optimizer, loss=\"categorical_crossentropy\", metrics=[\"accuracy\"]\n",
    "        )\n",
    "        print(\"Model {} successfully compiled.\".format(self.model_name))\n",
    "        self.model = model\n",
    "\n",
    "    def show_trainable_layers(self):\n",
    "        print(\"Trainable layers for model {} are:\".format(self.model_name))\n",
    "        for layer in self.model.layers:\n",
    "            if layer.trainable:\n",
    "                print(\n",
    "                    \"LAYER: {}, TRAINABLE: {}, I/P SHAPE: {}, O/P SHAPE: {}\".format(\n",
    "                        layer.name,\n",
    "                        layer.trainable,\n",
    "                        layer.input_shape,\n",
    "                        layer.output_shape,\n",
    "                    )\n",
    "                )\n",
    "\n",
    "    def train_model(self, train_ds, val_ds, levels):\n",
    "        checkpoint_name = (\n",
    "            \"building_age.\"\n",
    "            + self.model_name\n",
    "            + \"-LEV-\"\n",
    "            + str(levels)\n",
    "            + \".weights.{epoch:02d}-{val_loss:.2f}-{val_accuracy:.2f}.hdf5\"\n",
    "        )\n",
    "        model_checkpoint_callback = tf.keras.callbacks.ModelCheckpoint(\n",
    "            filepath=self.ckpt_path / checkpoint_name,\n",
    "            save_weights_only=True,\n",
    "            monitor=\"val_accuracy\",\n",
    "            mode=\"max\",\n",
    "            save_best_only=True,\n",
    "        )\n",
    "        early_stopping_callback = tf.keras.callbacks.EarlyStopping(\n",
    "              # Stop training when `val_loss` is no longer improving\n",
    "              monitor=\"val_loss\",\n",
    "              # \"no longer improving\" being defined as \"no better than 1e-2 less\"\n",
    "              min_delta=1e-3,\n",
    "              # \"no longer improving\" being further defined as \"for at least 2 epochs\"\n",
    "              patience=3,\n",
    "              verbose=1,\n",
    "        )\n",
    "        callbacks = [model_checkpoint_callback, early_stopping_callback]\n",
    "\n",
    "        print(\n",
    "            \"Starting model training for {} epochs.\".format(self.NUM_EPOCHS)\n",
    "        )\n",
    "        history = self.model.fit(\n",
    "            train_ds,\n",
    "            epochs=self.NUM_EPOCHS,\n",
    "            callbacks=[model_checkpoint_callback],\n",
    "            validation_data=val_ds,\n",
    "            verbose=1,\n",
    "        )\n",
    "        print(\"Model training finished.\")\n",
    "        return history\n",
    "\n",
    "    def save_hist_plot(self, hist, metric):\n",
    "        timestr = time.strftime(\"%Y%m%d-%H%M%S\")\n",
    "        plot_name = (\n",
    "            \"building_age.\" + self.model_name + \".\" + metric + \".\" + timestr + \".png\"\n",
    "        )\n",
    "        plt.plot(hist.history[metric])\n",
    "        plt.plot(hist.history[\"val_\" + metric])\n",
    "        plt.title(\"model \" + metric)\n",
    "        plt.ylabel(metric)\n",
    "        plt.xlabel(\"epoch\")\n",
    "        plt.legend([\"train\", \"validation\"], loc=\"upper left\")\n",
    "        plt.savefig(self.ckpt_path / plot_name)\n",
    "        print(\"Model plot for {} saved.\".format(metric))\n",
    "        plt.show()\n",
    "\n",
    "    def evaluate_model(self, test_ds):\n",
    "        print(\"Starting model evaluation on test set.\")\n",
    "        result = self.model.evaluate(test_ds)\n",
    "        print(dict(zip(self.model.metrics_names, result)))\n",
    "\n",
    "        y_true = list()\n",
    "        y_pred = list()\n",
    "        for i, l in test_ds.unbatch():\n",
    "            y_pred.append(self.model.predict(np.expand_dims(i, axis=0)))\n",
    "            y_true.append(l.numpy())\n",
    "\n",
    "        for i in range(len(self.ds_labels)):\n",
    "            self.show_per_class_accuracy(y_true, y_pred, i)\n",
    "\n",
    "    def show_per_class_accuracy(self, y_true, y_pred, class_num):\n",
    "        cnt = 0\n",
    "        for yt, yp in zip(y_true, y_pred):\n",
    "            yt, yp = np.argmax(yt), np.argmax(yp)\n",
    "            if yt == class_num == yp:\n",
    "                cnt += 1\n",
    "        print(\n",
    "            \"Accuracy for class {} is {}%\".format(class_num, (cnt / len(y_true)) * 100 * self.num_classes)\n",
    "        )"
   ]
  },
  {
   "cell_type": "markdown",
   "metadata": {
    "id": "3hg6qrYlMsgl"
   },
   "source": [
    "### Train and Eval Network"
   ]
  },
  {
   "cell_type": "code",
   "execution_count": null,
   "metadata": {
    "colab": {
     "base_uri": "https://localhost:8080/"
    },
    "executionInfo": {
     "elapsed": 1092,
     "status": "ok",
     "timestamp": 1605769347004,
     "user": {
      "displayName": "Anupam Kakkar",
      "photoUrl": "",
      "userId": "05029291328344332243"
     },
     "user_tz": -330
    },
    "id": "DclKAVZWNR0m",
    "outputId": "308c8972-65e6-4935-99d0-40e82378c557"
   },
   "outputs": [],
   "source": [
    "!ls /home/"
   ]
  },
  {
   "cell_type": "code",
   "execution_count": null,
   "metadata": {
    "colab": {
     "base_uri": "https://localhost:8080/"
    },
    "executionInfo": {
     "elapsed": 8051,
     "status": "ok",
     "timestamp": 1618928305178,
     "user": {
      "displayName": "Anupam Kakkar",
      "photoUrl": "",
      "userId": "05029291328344332243"
     },
     "user_tz": -120
    },
    "id": "rTw-Ziv4MvdA",
    "outputId": "c5280c32-4a90-4815-c040-d8c3dbb78420"
   },
   "outputs": [],
   "source": [
    "network = 3\n",
    "levels = 4\n",
    "ds_num = 0\n",
    "\n",
    "# Make in memory datasets from images to train the network.\n",
    "building_age_network = BuildingAgeNetwork(network, ds_num)\n",
    "train_ds = building_age_network.make_datasets(\"train\")\n",
    "val_ds = building_age_network.make_datasets(\"val\")\n",
    "test_ds = building_age_network.make_datasets(\"test\")"
   ]
  },
  {
   "cell_type": "code",
   "execution_count": null,
   "metadata": {
    "colab": {
     "base_uri": "https://localhost:8080/"
    },
    "executionInfo": {
     "elapsed": 6161,
     "status": "ok",
     "timestamp": 1618928318476,
     "user": {
      "displayName": "Anupam Kakkar",
      "photoUrl": "",
      "userId": "05029291328344332243"
     },
     "user_tz": -120
    },
    "id": "Z5OBcCyqTyAH",
    "outputId": "5ce68086-edff-494f-ed5a-b5746b96af3c"
   },
   "outputs": [],
   "source": [
    "# Build Building Age model\n",
    "building_age_network.build_and_compile_model(True, levels)\n",
    "# Check trainable layers.\n",
    "building_age_network.show_trainable_layers()"
   ]
  },
  {
   "cell_type": "code",
   "execution_count": null,
   "metadata": {
    "colab": {
     "base_uri": "https://localhost:8080/",
     "height": 1000
    },
    "executionInfo": {
     "elapsed": 2252732,
     "status": "ok",
     "timestamp": 1618930579917,
     "user": {
      "displayName": "Anupam Kakkar",
      "photoUrl": "",
      "userId": "05029291328344332243"
     },
     "user_tz": -120
    },
    "id": "jXoiY7apUApc",
    "outputId": "1ef9e635-fa6c-46f2-e477-744196ca2586"
   },
   "outputs": [],
   "source": [
    "# Train model.\n",
    "history = building_age_network.train_model(train_ds, val_ds, levels)\n",
    "# Save Accuracy Plots.\n",
    "building_age_network.save_hist_plot(history, \"accuracy\")\n",
    "building_age_network.save_hist_plot(history, \"loss\")"
   ]
  },
  {
   "cell_type": "code",
   "execution_count": null,
   "metadata": {},
   "outputs": [],
   "source": [
    "building_age_network.model.load_weights('./model_runs/20210616/house_detector.EfficientNetB3-LEV-4.weights.44-0.85-0.55.hdf5')"
   ]
  },
  {
   "cell_type": "code",
   "execution_count": null,
   "metadata": {
    "executionInfo": {
     "elapsed": 701,
     "status": "ok",
     "timestamp": 1618930614705,
     "user": {
      "displayName": "Anupam Kakkar",
      "photoUrl": "",
      "userId": "05029291328344332243"
     },
     "user_tz": -120
    },
    "id": "Hf5LllKYpihR"
   },
   "outputs": [],
   "source": [
    "with open(\"/content/age_b1_0.json\", \"a\") as f:\n",
    "    json.dump(history.history, f)"
   ]
  },
  {
   "cell_type": "code",
   "execution_count": null,
   "metadata": {
    "colab": {
     "base_uri": "https://localhost:8080/"
    },
    "executionInfo": {
     "elapsed": 33776,
     "status": "ok",
     "timestamp": 1618930662220,
     "user": {
      "displayName": "Anupam Kakkar",
      "photoUrl": "",
      "userId": "05029291328344332243"
     },
     "user_tz": -120
    },
    "id": "g7OSCtNUOf2P",
    "outputId": "6de0dfbe-0a05-4a18-f939-6c21e5481c0e"
   },
   "outputs": [],
   "source": [
    "# Evaluate model.\n",
    "building_age_network.evaluate_model(test_ds)"
   ]
  },
  {
   "cell_type": "markdown",
   "metadata": {
    "id": "9CAAWAnWylAq"
   },
   "source": [
    "Y_pred"
   ]
  },
  {
   "cell_type": "code",
   "execution_count": null,
   "metadata": {
    "colab": {
     "base_uri": "https://localhost:8080/"
    },
    "executionInfo": {
     "elapsed": 666,
     "status": "ok",
     "timestamp": 1618933013441,
     "user": {
      "displayName": "Anupam Kakkar",
      "photoUrl": "",
      "userId": "05029291328344332243"
     },
     "user_tz": -120
    },
    "id": "6ME_PIqiyp3-",
    "outputId": "3f1f7686-0937-4fab-e39f-6ace475dc0a6"
   },
   "outputs": [],
   "source": [
    "test_ds.class_names"
   ]
  },
  {
   "cell_type": "code",
   "execution_count": null,
   "metadata": {
    "executionInfo": {
     "elapsed": 906,
     "status": "ok",
     "timestamp": 1618932214841,
     "user": {
      "displayName": "Anupam Kakkar",
      "photoUrl": "",
      "userId": "05029291328344332243"
     },
     "user_tz": -120
    },
    "id": "keVYaVOkzfV-"
   },
   "outputs": [],
   "source": [
    "import seaborn as sns\n",
    "from sklearn.metrics import classification_report, confusion_matrix"
   ]
  },
  {
   "cell_type": "code",
   "execution_count": null,
   "metadata": {
    "colab": {
     "base_uri": "https://localhost:8080/"
    },
    "executionInfo": {
     "elapsed": 2959,
     "status": "ok",
     "timestamp": 1618932024960,
     "user": {
      "displayName": "Anupam Kakkar",
      "photoUrl": "",
      "userId": "05029291328344332243"
     },
     "user_tz": -120
    },
    "id": "iRGGtC-H0QG1",
    "outputId": "65e938cb-63ef-425d-8f50-849de7f14700"
   },
   "outputs": [],
   "source": [
    "def get_test_ds(IMG_HEIGHT, IMG_WIDTH):\n",
    "    dataset = tf.keras.preprocessing.image_dataset_from_directory(\n",
    "                directory=(pathlib.Path(\"./data\") / \"test\"),\n",
    "                labels=\"inferred\",\n",
    "                label_mode=\"categorical\",\n",
    "                batch_size=32,\n",
    "                image_size=(IMG_HEIGHT, IMG_WIDTH),\n",
    "                shuffle=False,\n",
    "    )\n",
    "    dataset.cache().prefetch(tf.data.experimental.AUTOTUNE)\n",
    "    return dataset\n",
    "test_ds = get_test_ds(300, 300)\n",
    "y_true = np.concatenate([y for x, y in test_ds], axis=0)\n",
    "y_true = np.argmax(y_true, axis=1)\n",
    "y_true.shape"
   ]
  },
  {
   "cell_type": "code",
   "execution_count": null,
   "metadata": {
    "executionInfo": {
     "elapsed": 3206,
     "status": "ok",
     "timestamp": 1618932069846,
     "user": {
      "displayName": "Anupam Kakkar",
      "photoUrl": "",
      "userId": "05029291328344332243"
     },
     "user_tz": -120
    },
    "id": "zcTLPQDIz1O7"
   },
   "outputs": [],
   "source": [
    "Y_pred = building_age_network.model.predict(test_ds)"
   ]
  },
  {
   "cell_type": "code",
   "execution_count": null,
   "metadata": {},
   "outputs": [],
   "source": [
    "Y_pred"
   ]
  },
  {
   "cell_type": "code",
   "execution_count": null,
   "metadata": {
    "colab": {
     "base_uri": "https://localhost:8080/",
     "height": 582
    },
    "executionInfo": {
     "elapsed": 1137,
     "status": "ok",
     "timestamp": 1618932284855,
     "user": {
      "displayName": "Anupam Kakkar",
      "photoUrl": "",
      "userId": "05029291328344332243"
     },
     "user_tz": -120
    },
    "id": "ghb4829EyYjh",
    "outputId": "203b370d-1573-4fd5-8fd1-19b83b95ee23"
   },
   "outputs": [],
   "source": [
    "y_pred = np.argmax(Y_pred, axis=1)\n",
    "print('Confusion Matrix')\n",
    "print(confusion_matrix(y_true, y_pred))\n",
    "cmat = confusion_matrix(y_true, y_pred)\n",
    "sns.set_style(\"whitegrid\")\n",
    "sns.set_palette(\"muted\")\n",
    "sns.heatmap(cmat, annot=True)\n",
    "print('Classification Report')\n",
    "target_names = test_ds.class_names\n",
    "print(classification_report(y_true, y_pred, target_names=target_names))"
   ]
  },
  {
   "cell_type": "code",
   "execution_count": null,
   "metadata": {
    "colab": {
     "base_uri": "https://localhost:8080/",
     "height": 425
    },
    "executionInfo": {
     "elapsed": 2167,
     "status": "ok",
     "timestamp": 1618933607977,
     "user": {
      "displayName": "Anupam Kakkar",
      "photoUrl": "",
      "userId": "05029291328344332243"
     },
     "user_tz": -120
    },
    "id": "RQ0QcOze6NUA",
    "outputId": "e568a039-d7a8-4f68-bb5c-cc43da8f484b"
   },
   "outputs": [],
   "source": [
    "import numpy as np\n",
    "import pandas as pd\n",
    "import matplotlib.pyplot as plt\n",
    "%matplotlib inline\n",
    "import seaborn as sns\n",
    "from sklearn.metrics import confusion_matrix\n",
    "\n",
    "def plot_cm(y_true, y_pred, class_names, fname, figsize=(5, 5)):\n",
    "    sns.set_style(\"whitegrid\")\n",
    "    sns.set_palette(\"muted\")\n",
    "    y_true = [class_names[y_true[i]] for i in range(len(y_true))]\n",
    "    y_pred = [class_names[y_pred[i]] for i in range(len(y_pred))]\n",
    "    cm = confusion_matrix(y_true, y_pred, labels=np.unique(y_true))\n",
    "    cm_sum = np.sum(cm, axis=1, keepdims=True)\n",
    "    cm_perc = cm / cm_sum.astype(float) * 100\n",
    "    annot = np.empty_like(cm).astype(str)\n",
    "    nrows, ncols = cm.shape\n",
    "    for i in range(nrows):\n",
    "        for j in range(ncols):\n",
    "            c = cm[i, j]\n",
    "            p = cm_perc[i, j]\n",
    "            if i == j:\n",
    "                s = cm_sum[i]\n",
    "                annot[i, j] = '%.1f%%\\n%d/%d' % (p, c, s)\n",
    "            elif c == 0:\n",
    "                annot[i, j] = ''\n",
    "            else:\n",
    "                annot[i, j] = '%.1f%%\\n%d' % (p, c)\n",
    "    cm = pd.DataFrame(cm, index=np.unique(y_true), columns=np.unique(y_true))\n",
    "    cm.index.name = 'Actual'\n",
    "    cm.columns.name = 'Predicted'\n",
    "    fig, ax = plt.subplots(figsize=figsize)\n",
    "    fig.suptitle(\"Confusion Matrix\")\n",
    "    sns.heatmap(cm, cmap=\"coolwarm\", annot=annot, fmt='', ax=ax)\n",
    "    plt.xticks(rotation=90)\n",
    "    plt.yticks(rotation=0)\n",
    "    plt.savefig(fname, bbox_inches=\"tight\")\n",
    "    \n",
    "plot_cm(y_true, y_pred, test_ds.class_names, \"./content/class_hmap.png\")"
   ]
  },
  {
   "cell_type": "code",
   "execution_count": null,
   "metadata": {
    "id": "ilcQnOuJreL0"
   },
   "outputs": [],
   "source": [
    "from sklearn.metrics import classification_report, confusion_matrix"
   ]
  },
  {
   "cell_type": "markdown",
   "metadata": {
    "id": "mHeTXOBd91lX"
   },
   "source": [
    "### 3 Class HP Run"
   ]
  },
  {
   "cell_type": "code",
   "execution_count": null,
   "metadata": {
    "colab": {
     "base_uri": "https://localhost:8080/"
    },
    "executionInfo": {
     "elapsed": 1092,
     "status": "ok",
     "timestamp": 1605769347004,
     "user": {
      "displayName": "Anupam Kakkar",
      "photoUrl": "",
      "userId": "05029291328344332243"
     },
     "user_tz": -330
    },
    "id": "A-821UBi_GZN",
    "outputId": "308c8972-65e6-4935-99d0-40e82378c557"
   },
   "outputs": [],
   "source": [
    "!ls /home/"
   ]
  },
  {
   "cell_type": "code",
   "execution_count": null,
   "metadata": {
    "colab": {
     "base_uri": "https://localhost:8080/"
    },
    "executionInfo": {
     "elapsed": 1043,
     "status": "ok",
     "timestamp": 1618934028258,
     "user": {
      "displayName": "Anupam Kakkar",
      "photoUrl": "",
      "userId": "05029291328344332243"
     },
     "user_tz": -120
    },
    "id": "noZzjaRC_GZT",
    "outputId": "dbf6e4ae-cb53-49b2-f02a-c0040202bc03"
   },
   "outputs": [],
   "source": [
    "network = 1\n",
    "levels = 4\n",
    "ds_num = 0\n",
    "\n",
    "# Make in memory datasets from images to train the network.\n",
    "building_age_network = BuildingAgeNetwork(network, ds_num)\n",
    "train_ds = building_age_network.make_datasets(\"train\")\n",
    "val_ds = building_age_network.make_datasets(\"val\")\n",
    "test_ds = building_age_network.make_datasets(\"test\")"
   ]
  },
  {
   "cell_type": "code",
   "execution_count": null,
   "metadata": {
    "colab": {
     "base_uri": "https://localhost:8080/"
    },
    "executionInfo": {
     "elapsed": 3992,
     "status": "ok",
     "timestamp": 1618934036003,
     "user": {
      "displayName": "Anupam Kakkar",
      "photoUrl": "",
      "userId": "05029291328344332243"
     },
     "user_tz": -120
    },
    "id": "w7pi1mCt_GZY",
    "outputId": "032bc2c8-b741-4a9c-a41d-426fb598029c"
   },
   "outputs": [],
   "source": [
    "# Build Building Age model\n",
    "building_age_network.build_and_compile_model(True, levels)\n",
    "# Check trainable layers.\n",
    "building_age_network.show_trainable_layers()"
   ]
  },
  {
   "cell_type": "code",
   "execution_count": null,
   "metadata": {
    "colab": {
     "base_uri": "https://localhost:8080/",
     "height": 1000
    },
    "executionInfo": {
     "elapsed": 2986751,
     "status": "ok",
     "timestamp": 1618937025406,
     "user": {
      "displayName": "Anupam Kakkar",
      "photoUrl": "",
      "userId": "05029291328344332243"
     },
     "user_tz": -120
    },
    "id": "PMpGJNdU_GZc",
    "outputId": "434480da-67c3-41f5-e838-1d3d49e67fa1"
   },
   "outputs": [],
   "source": [
    "# Train model.\n",
    "history = building_age_network.train_model(train_ds, val_ds, levels)\n",
    "# Save Accuracy Plots.\n",
    "building_age_network.save_hist_plot(history, \"accuracy\")\n",
    "building_age_network.save_hist_plot(history, \"loss\")"
   ]
  },
  {
   "cell_type": "code",
   "execution_count": null,
   "metadata": {
    "executionInfo": {
     "elapsed": 1161,
     "status": "ok",
     "timestamp": 1618937026599,
     "user": {
      "displayName": "Anupam Kakkar",
      "photoUrl": "",
      "userId": "05029291328344332243"
     },
     "user_tz": -120
    },
    "id": "c193IOvX_GZf"
   },
   "outputs": [],
   "source": [
    "with open(\"/content/age_b1_3.json\", \"a\") as f:\n",
    "    json.dump(history.history, f)"
   ]
  },
  {
   "cell_type": "code",
   "execution_count": null,
   "metadata": {
    "colab": {
     "base_uri": "https://localhost:8080/"
    },
    "executionInfo": {
     "elapsed": 39094,
     "status": "ok",
     "timestamp": 1618937081576,
     "user": {
      "displayName": "Anupam Kakkar",
      "photoUrl": "",
      "userId": "05029291328344332243"
     },
     "user_tz": -120
    },
    "id": "agMR-FJA_GZh",
    "outputId": "e0508930-78ac-4920-cd77-be33ab21f01e"
   },
   "outputs": [],
   "source": [
    "# Evaluate model.\n",
    "building_age_network.evaluate_model(test_ds)"
   ]
  },
  {
   "cell_type": "markdown",
   "metadata": {
    "id": "js0TOeH9_GZl"
   },
   "source": [
    "Y_pred"
   ]
  },
  {
   "cell_type": "code",
   "execution_count": null,
   "metadata": {
    "colab": {
     "base_uri": "https://localhost:8080/"
    },
    "executionInfo": {
     "elapsed": 666,
     "status": "ok",
     "timestamp": 1618933013441,
     "user": {
      "displayName": "Anupam Kakkar",
      "photoUrl": "",
      "userId": "05029291328344332243"
     },
     "user_tz": -120
    },
    "id": "9-2EZQw5_GZn",
    "outputId": "3f1f7686-0937-4fab-e39f-6ace475dc0a6"
   },
   "outputs": [],
   "source": [
    "test_ds.class_names"
   ]
  },
  {
   "cell_type": "code",
   "execution_count": null,
   "metadata": {
    "executionInfo": {
     "elapsed": 16315,
     "status": "ok",
     "timestamp": 1618937081578,
     "user": {
      "displayName": "Anupam Kakkar",
      "photoUrl": "",
      "userId": "05029291328344332243"
     },
     "user_tz": -120
    },
    "id": "SWrai9Ed_GZp"
   },
   "outputs": [],
   "source": [
    "import seaborn as sns\n",
    "from sklearn.metrics import classification_report, confusion_matrix"
   ]
  },
  {
   "cell_type": "code",
   "execution_count": null,
   "metadata": {
    "colab": {
     "base_uri": "https://localhost:8080/"
    },
    "executionInfo": {
     "elapsed": 3244,
     "status": "ok",
     "timestamp": 1618937095930,
     "user": {
      "displayName": "Anupam Kakkar",
      "photoUrl": "",
      "userId": "05029291328344332243"
     },
     "user_tz": -120
    },
    "id": "EvYQe0po_GZr",
    "outputId": "6ac3e913-9d6f-48fd-8d31-f053a8959f7e"
   },
   "outputs": [],
   "source": [
    "def get_test_ds(IMG_HEIGHT, IMG_WIDTH):\n",
    "    dataset = tf.keras.preprocessing.image_dataset_from_directory(\n",
    "                directory=(pathlib.Path(\"/home/BAv6/\") / \"test\"),\n",
    "                labels=\"inferred\",\n",
    "                label_mode=\"categorical\",\n",
    "                batch_size=32,\n",
    "                image_size=(IMG_HEIGHT, IMG_WIDTH),\n",
    "                shuffle=False,\n",
    "    )\n",
    "    dataset.cache().prefetch(tf.data.experimental.AUTOTUNE)\n",
    "    return dataset\n",
    "test_ds = get_test_ds(240, 240)\n",
    "y_true = np.concatenate([y for x, y in test_ds], axis=0)\n",
    "y_true = np.argmax(y_true, axis=1)\n",
    "y_true"
   ]
  },
  {
   "cell_type": "code",
   "execution_count": null,
   "metadata": {
    "executionInfo": {
     "elapsed": 5688,
     "status": "ok",
     "timestamp": 1618937107273,
     "user": {
      "displayName": "Anupam Kakkar",
      "photoUrl": "",
      "userId": "05029291328344332243"
     },
     "user_tz": -120
    },
    "id": "vbNTFwz5_GZv"
   },
   "outputs": [],
   "source": [
    "Y_pred = building_age_network.model.predict(test_ds)"
   ]
  },
  {
   "cell_type": "code",
   "execution_count": null,
   "metadata": {
    "colab": {
     "base_uri": "https://localhost:8080/",
     "height": 545
    },
    "executionInfo": {
     "elapsed": 1081,
     "status": "ok",
     "timestamp": 1618937110086,
     "user": {
      "displayName": "Anupam Kakkar",
      "photoUrl": "",
      "userId": "05029291328344332243"
     },
     "user_tz": -120
    },
    "id": "bz18mx9R_GZw",
    "outputId": "64bad75c-59bd-4d47-da07-683c0d80cd1b"
   },
   "outputs": [],
   "source": [
    "y_pred = np.argmax(Y_pred, axis=1)\n",
    "print('Confusion Matrix')\n",
    "print(confusion_matrix(y_true, y_pred))\n",
    "cmat = confusion_matrix(y_true, y_pred)\n",
    "sns.set_style(\"whitegrid\")\n",
    "sns.set_palette(\"muted\")\n",
    "sns.heatmap(cmat, annot=True)\n",
    "print('Classification Report')\n",
    "target_names = test_ds.class_names\n",
    "print(classification_report(y_true, y_pred, target_names=target_names))"
   ]
  },
  {
   "cell_type": "code",
   "execution_count": null,
   "metadata": {
    "colab": {
     "base_uri": "https://localhost:8080/",
     "height": 432
    },
    "executionInfo": {
     "elapsed": 2093,
     "status": "ok",
     "timestamp": 1618937128559,
     "user": {
      "displayName": "Anupam Kakkar",
      "photoUrl": "",
      "userId": "05029291328344332243"
     },
     "user_tz": -120
    },
    "id": "NwgYP7mP_GZy",
    "outputId": "f88c9ad4-9e8f-4eb8-ded0-899369f2c4b7"
   },
   "outputs": [],
   "source": [
    "import numpy as np\n",
    "import pandas as pd\n",
    "import matplotlib.pyplot as plt\n",
    "%matplotlib inline\n",
    "import seaborn as sns\n",
    "from sklearn.metrics import confusion_matrix\n",
    "\n",
    "def plot_cm(y_true, y_pred, class_names, fname, figsize=(5, 5)):\n",
    "    sns.set_style(\"whitegrid\")\n",
    "    sns.set_palette(\"muted\")\n",
    "    y_true = [class_names[y_true[i]] for i in range(len(y_true))]\n",
    "    y_pred = [class_names[y_pred[i]] for i in range(len(y_pred))]\n",
    "    cm = confusion_matrix(y_true, y_pred, labels=np.unique(y_true))\n",
    "    cm_sum = np.sum(cm, axis=1, keepdims=True)\n",
    "    cm_perc = cm / cm_sum.astype(float) * 100\n",
    "    annot = np.empty_like(cm).astype(str)\n",
    "    nrows, ncols = cm.shape\n",
    "    for i in range(nrows):\n",
    "        for j in range(ncols):\n",
    "            c = cm[i, j]\n",
    "            p = cm_perc[i, j]\n",
    "            if i == j:\n",
    "                s = cm_sum[i]\n",
    "                annot[i, j] = '%.1f%%\\n%d/%d' % (p, c, s)\n",
    "            elif c == 0:\n",
    "                annot[i, j] = ''\n",
    "            else:\n",
    "                annot[i, j] = '%.1f%%\\n%d' % (p, c)\n",
    "    cm = pd.DataFrame(cm, index=np.unique(y_true), columns=np.unique(y_true))\n",
    "    cm.index.name = 'Actual'\n",
    "    cm.columns.name = 'Predicted'\n",
    "    fig, ax = plt.subplots(figsize=figsize)\n",
    "    fig.suptitle(\"Confusion Matrix\")\n",
    "    sns.heatmap(cm, cmap=\"coolwarm\", annot=annot, fmt='', ax=ax)\n",
    "    plt.xticks(rotation=90)\n",
    "    plt.yticks(rotation=0)\n",
    "    plt.savefig(fname, bbox_inches=\"tight\")\n",
    "    \n",
    "plot_cm(y_true, y_pred, test_ds.class_names, \"/content/age_b1_3_hmap.png\")"
   ]
  },
  {
   "cell_type": "code",
   "execution_count": null,
   "metadata": {
    "id": "JaaO9qe6_GZ0"
   },
   "outputs": [],
   "source": [
    "from sklearn.metrics import classification_report, confusion_matrix"
   ]
  },
  {
   "cell_type": "markdown",
   "metadata": {
    "id": "y2bLMx8Kc8bD"
   },
   "source": [
    "### Evaluate Model Weights"
   ]
  },
  {
   "cell_type": "code",
   "execution_count": null,
   "metadata": {
    "id": "dFF8Sd6YdAIu"
   },
   "outputs": [],
   "source": [
    "class TestENet:\n",
    "  def __init__(self, d_path, w_path, ds_num):\n",
    "    # Define EfficientNet options.\n",
    "    self.image_res_list = [224, 240, 260, 300, 380, 456, 528, 600]\n",
    "    self.network_list = [\n",
    "        \"EfficientNetB0\",\n",
    "        \"EfficientNetB1\",\n",
    "        \"EfficientNetB2\",\n",
    "        \"EfficientNetB3\",\n",
    "        \"EfficientNetB4\",\n",
    "        \"EfficientNetB5\",\n",
    "        \"EfficientNetB6\",\n",
    "        \"EfficientNetB7\",\n",
    "    ]\n",
    "    self.levels_list = [\n",
    "      [\"top\"],\n",
    "      [\"top\", \"block7\"],\n",
    "      [\"top\", \"block7\", \"block6\"],\n",
    "      [\"top\", \"block7\", \"block6\", \"block5\"],\n",
    "      [\"top\", \"block7\", \"block6\", \"block5\", \"block4\"],\n",
    "    ]\n",
    "    self.model = None\n",
    "    model_idx = int(w_path.name.split(\"EfficientNetB\")[1][0])\n",
    "    lev_idx = int(w_path.name.split(\"-LEV-\")[1][0])\n",
    "\n",
    "    # Define network and load default hyperparameters.\n",
    "    self.model_name = self.network_list[model_idx]\n",
    "    self.BATCH_SIZE = 32\n",
    "    self.NUM_EPOCHS = 50\n",
    "    self.LEARNING_RATE = 1e-4\n",
    "    self.DROPOUT_RATE = 0.25\n",
    "    self.NUM_CHANNELS = 3\n",
    "    self.IMG_HEIGHT = self.IMG_WIDTH = self.image_res_list[model_idx]\n",
    "    self.INPUT_SHAPE = (self.IMG_HEIGHT, self.IMG_WIDTH, self.NUM_CHANNELS)\n",
    "\n",
    "    # self.ds_path = pathlib.Path(\"/home/BuildingAgeSplit_750\")\n",
    "    # timestr = time.strftime(\"%Y%m%d\")\n",
    "    # self.ckpt_path = pathlib.Path(\"/content/drive/My Drive/anupam/model_runs/bage_runs/class_exp\") / timestr\n",
    "    # self.ckpt_path.mkdir(parents=True, exist_ok=True)\n",
    "    label_list = [\n",
    "                  [\"1850 - 1978\", \"1979 - 2001\", \"2002 - 2020\"],\n",
    "                  ['1850-1955', '1955-1990', '1990-2005', '2005-2020'],\n",
    "                  ['1850-1935', '1935-1980', '1980-1995', '1995-2010', '2010-2020'],\n",
    "                  ['1850-1930', '1930-1975', '1975-1992', '1992-2000', '2000-2015', '2015-2020'],\n",
    "                  ['1850-1920', '1920-1960', '1960-1980', '1980-1992', '1992-1999', '1999-2015', '2015-2020']]\n",
    "    self.ds_labels = label_list[ds_num]\n",
    "    self.num_classes = len(self.ds_labels)\n",
    "\n",
    "    self.run_eval(lev_idx, d_path, w_path)\n",
    "  \n",
    "  def run_eval(self, lev_idx, d_path, w_path):\n",
    "    # Build and Compile Model\n",
    "    self.build_and_compile_model(levels = lev_idx)\n",
    "    self.model.load_weights(w_path)\n",
    "\n",
    "    # Make test dataset\n",
    "    test_ds = self.make_datasets(d_path, \"test\")\n",
    "\n",
    "    # Eval model on test set\n",
    "    r, pc = self.evaluate_model(test_ds)\n",
    "\n",
    "    epo = int(w_path.name.split(\"-\")[-2].split(\".\")[-1])\n",
    "    valloss = float(w_path.name.split(\"-\")[-1][:-5])\n",
    "\n",
    "    fields = [self.model_name, lev_idx, epo, valloss, r[0], r[1], pc[0], pc[1], pc[2]]\n",
    "    print(\"---\".join([str(elem) for elem in fields]))\n",
    "    \n",
    "    with open(pathlib.Path(\"/content/drive/My Drive/anupam/model_runs/bage_runs/class_exp\") / \"eNet_class_summary.csv\", 'a') as f:\n",
    "        writer = csv.writer(f)\n",
    "        writer.writerow(fields)\n",
    "\n",
    "  \n",
    "  def get_aug(self):\n",
    "    # Define Image Augmentation Strategies\n",
    "    img_augmentation = tf.keras.models.Sequential(\n",
    "        [\n",
    "            tf.keras.layers.experimental.preprocessing.RandomRotation(factor=0.05),\n",
    "            tf.keras.layers.experimental.preprocessing.RandomFlip(\n",
    "                mode=\"horizontal\"\n",
    "            ),\n",
    "        ],\n",
    "        name=\"img_augmentation\",\n",
    "    )\n",
    "    # print(\"Image Augmentation strategy defined.\")\n",
    "    return img_augmentation\n",
    "\n",
    "  def build_and_compile_model(self, ft=True, levels=1):\n",
    "    # Define model inputs.\n",
    "    inputs = tf.keras.layers.Input(self.INPUT_SHAPE)\n",
    "    # Apply data augmentation to inputs.\n",
    "    x = self.get_aug()(inputs)\n",
    "\n",
    "    # Load base model from Keras Applications.\n",
    "    base_model = getattr(tf.keras.applications, self.model_name)(\n",
    "        include_top=False, input_tensor=x, weights=\"imagenet\"\n",
    "    )\n",
    "    # Freeze base model.\n",
    "    base_model.trainable = False\n",
    "\n",
    "    # Unfreeze parts of model.\n",
    "    if ft:\n",
    "        # Set trainable layers, but keep batch norm layers frozen.\n",
    "        for layer in base_model.layers:\n",
    "            if all(\n",
    "                lname not in layer.name for lname in self.levels_list[levels]\n",
    "            ) or isinstance(layer, tf.keras.layers.BatchNormalization):\n",
    "                layer.trainable = False\n",
    "            else:\n",
    "                layer.trainable = True\n",
    "\n",
    "    # Rebuild classifier.\n",
    "    x = tf.keras.layers.GlobalAveragePooling2D(name=\"tl_avgpool\")(base_model.output)\n",
    "    x = tf.keras.layers.Dropout(self.DROPOUT_RATE, name=\"tl_dropout\")(x)\n",
    "    outputs = tf.keras.layers.Dense(\n",
    "        self.num_classes, activation=\"softmax\", name=\"tl_pred\"\n",
    "    )(x)\n",
    "\n",
    "    # Compile model.\n",
    "    model = tf.keras.Model(inputs, outputs, name=self.model_name)\n",
    "    optimizer = tf.keras.optimizers.Adam(learning_rate=self.LEARNING_RATE)\n",
    "    model.compile(\n",
    "        optimizer=optimizer, loss=\"categorical_crossentropy\", metrics=[\"accuracy\"]\n",
    "    )\n",
    "    # print(\"Model {} successfully compiled.\".format(self.model_name))\n",
    "    self.model = model\n",
    "  \n",
    "  def make_datasets(self, d_path, d_type):\n",
    "    dataset = tf.keras.preprocessing.image_dataset_from_directory(\n",
    "        directory=(d_path / d_type),\n",
    "        labels=\"inferred\",\n",
    "        label_mode=\"categorical\",\n",
    "        batch_size=self.BATCH_SIZE,\n",
    "        image_size=(self.IMG_HEIGHT, self.IMG_WIDTH),\n",
    "        shuffle=True,\n",
    "    )\n",
    "    dataset.cache().prefetch(tf.data.experimental.AUTOTUNE)\n",
    "    return dataset\n",
    "\n",
    "  def evaluate_model(self, test_ds):\n",
    "    # print(\"Starting model evaluation on test set.\")\n",
    "    result = self.model.evaluate(test_ds)\n",
    "    # print(dict(zip(self.model.metrics_names, result)))\n",
    "    # print(result)\n",
    "\n",
    "    per_class = list()\n",
    "    y_true = list()\n",
    "    y_pred = list()\n",
    "    for i, l in test_ds.unbatch():\n",
    "      y_pred.append(self.model.predict(np.expand_dims(i, axis=0)))\n",
    "      y_true.append(l.numpy())\n",
    "\n",
    "    for i in range(len(self.ds_labels)):\n",
    "      per_class.append(self.show_per_class_accuracy(y_true, y_pred, i, self.ds_labels[i]))\n",
    "    \n",
    "    return result, per_class\n",
    "\n",
    "  def show_per_class_accuracy(self, y_true, y_pred, class_num, class_lab):\n",
    "    cnt = 0\n",
    "    for yt, yp in zip(y_true, y_pred):\n",
    "      yt, yp = np.argmax(yt), np.argmax(yp)\n",
    "      if yt == class_num == yp:\n",
    "        cnt += 1\n",
    "    accu = (cnt / len(y_true)) * 100 * self.num_classes\n",
    "    return accu\n",
    "    # print(\n",
    "    #   \"Accuracy for class {} is {}%\".format(class_lab, (cnt / len(y_true)) * 100 * self.num_classes)\n",
    "    # )"
   ]
  },
  {
   "cell_type": "code",
   "execution_count": null,
   "metadata": {
    "colab": {
     "base_uri": "https://localhost:8080/"
    },
    "executionInfo": {
     "elapsed": 1443,
     "status": "ok",
     "timestamp": 1605772237660,
     "user": {
      "displayName": "Anupam Kakkar",
      "photoUrl": "",
      "userId": "05029291328344332243"
     },
     "user_tz": -330
    },
    "id": "A032u1s5dell",
    "outputId": "713c7eca-0733-4125-fdbd-0fe8fc678abf"
   },
   "outputs": [],
   "source": [
    "network = 2\n",
    "levels = 2\n",
    "ds_num = 1\n",
    "weight_list = sorted(pathlib.Path(\"/content/drive/My Drive/anupam/model_runs/bage_runs/class_exp\").rglob(\"*.hdf5\"))\n",
    "d_path = pathlib.Path(\"/home/BuildingAgeSplit_950\")\n",
    "weight_list"
   ]
  },
  {
   "cell_type": "code",
   "execution_count": null,
   "metadata": {
    "colab": {
     "base_uri": "https://localhost:8080/",
     "height": 455
    },
    "executionInfo": {
     "elapsed": 141605,
     "status": "error",
     "timestamp": 1605772385263,
     "user": {
      "displayName": "Anupam Kakkar",
      "photoUrl": "",
      "userId": "05029291328344332243"
     },
     "user_tz": -330
    },
    "id": "YJMOYEioewxz",
    "outputId": "6d3e6094-2c34-4a27-83d9-0a0add685b49"
   },
   "outputs": [],
   "source": [
    "for i, w_path in enumerate(weight_list):\n",
    "  print(i, d_path, w_path)\n",
    "  # tenet = TestENet(d_path, w_path, ds_num)"
   ]
  },
  {
   "cell_type": "markdown",
   "metadata": {
    "id": "uROt0htcLOec"
   },
   "source": [
    "### 5 Class HP Run"
   ]
  },
  {
   "cell_type": "code",
   "execution_count": null,
   "metadata": {
    "colab": {
     "base_uri": "https://localhost:8080/"
    },
    "executionInfo": {
     "elapsed": 1092,
     "status": "ok",
     "timestamp": 1605769347004,
     "user": {
      "displayName": "Anupam Kakkar",
      "photoUrl": "",
      "userId": "05029291328344332243"
     },
     "user_tz": -330
    },
    "id": "WEamVYtYLOes",
    "outputId": "308c8972-65e6-4935-99d0-40e82378c557"
   },
   "outputs": [],
   "source": [
    "!ls /home/"
   ]
  },
  {
   "cell_type": "code",
   "execution_count": null,
   "metadata": {
    "colab": {
     "base_uri": "https://localhost:8080/"
    },
    "executionInfo": {
     "elapsed": 1795,
     "status": "ok",
     "timestamp": 1618937513914,
     "user": {
      "displayName": "Anupam Kakkar",
      "photoUrl": "",
      "userId": "05029291328344332243"
     },
     "user_tz": -120
    },
    "id": "Pt2ebGmaLOex",
    "outputId": "005bab9e-82a1-4223-bcca-f55105452752"
   },
   "outputs": [],
   "source": [
    "network = 1\n",
    "levels = 3\n",
    "ds_num = 2\n",
    "\n",
    "# Make in memory datasets from images to train the network.\n",
    "building_age_network = BuildingAgeNetwork(network, ds_num)\n",
    "train_ds = building_age_network.make_datasets(\"train\")\n",
    "val_ds = building_age_network.make_datasets(\"val\")\n",
    "test_ds = building_age_network.make_datasets(\"test\")"
   ]
  },
  {
   "cell_type": "code",
   "execution_count": null,
   "metadata": {
    "colab": {
     "base_uri": "https://localhost:8080/"
    },
    "executionInfo": {
     "elapsed": 3976,
     "status": "ok",
     "timestamp": 1618937524665,
     "user": {
      "displayName": "Anupam Kakkar",
      "photoUrl": "",
      "userId": "05029291328344332243"
     },
     "user_tz": -120
    },
    "id": "NRnX4b5rLOe0",
    "outputId": "e2bf47c8-512c-4014-adfb-d2db57ca2deb"
   },
   "outputs": [],
   "source": [
    "# Build Building Age model\n",
    "building_age_network.build_and_compile_model(True, levels)\n",
    "# Check trainable layers.\n",
    "building_age_network.show_trainable_layers()"
   ]
  },
  {
   "cell_type": "code",
   "execution_count": null,
   "metadata": {
    "colab": {
     "base_uri": "https://localhost:8080/",
     "height": 1000
    },
    "executionInfo": {
     "elapsed": 2181437,
     "status": "ok",
     "timestamp": 1618939729283,
     "user": {
      "displayName": "Anupam Kakkar",
      "photoUrl": "",
      "userId": "05029291328344332243"
     },
     "user_tz": -120
    },
    "id": "onEsCaleLOe2",
    "outputId": "097cae74-61aa-4842-9131-5bcfe113813b"
   },
   "outputs": [],
   "source": [
    "# Train model.\n",
    "history = building_age_network.train_model(train_ds, val_ds, levels)\n",
    "# Save Accuracy Plots.\n",
    "building_age_network.save_hist_plot(history, \"accuracy\")\n",
    "building_age_network.save_hist_plot(history, \"loss\")"
   ]
  },
  {
   "cell_type": "code",
   "execution_count": null,
   "metadata": {
    "executionInfo": {
     "elapsed": 1248,
     "status": "ok",
     "timestamp": 1618939732785,
     "user": {
      "displayName": "Anupam Kakkar",
      "photoUrl": "",
      "userId": "05029291328344332243"
     },
     "user_tz": -120
    },
    "id": "q8eMvudBLOe4"
   },
   "outputs": [],
   "source": [
    "with open(\"/content/age_b1_5.json\", \"a\") as f:\n",
    "    json.dump(history.history, f)"
   ]
  },
  {
   "cell_type": "code",
   "execution_count": null,
   "metadata": {
    "colab": {
     "base_uri": "https://localhost:8080/"
    },
    "executionInfo": {
     "elapsed": 33317,
     "status": "ok",
     "timestamp": 1618939780125,
     "user": {
      "displayName": "Anupam Kakkar",
      "photoUrl": "",
      "userId": "05029291328344332243"
     },
     "user_tz": -120
    },
    "id": "uUBLQm8wLOe6",
    "outputId": "1eafe947-2823-4e84-addf-38e1a84c5845"
   },
   "outputs": [],
   "source": [
    "# Evaluate model.\n",
    "building_age_network.evaluate_model(test_ds)"
   ]
  },
  {
   "cell_type": "markdown",
   "metadata": {
    "id": "ZnXLA8uoLOe8"
   },
   "source": [
    "Y_pred"
   ]
  },
  {
   "cell_type": "code",
   "execution_count": null,
   "metadata": {
    "colab": {
     "base_uri": "https://localhost:8080/"
    },
    "executionInfo": {
     "elapsed": 666,
     "status": "ok",
     "timestamp": 1618933013441,
     "user": {
      "displayName": "Anupam Kakkar",
      "photoUrl": "",
      "userId": "05029291328344332243"
     },
     "user_tz": -120
    },
    "id": "q-nutPZ1LOe9",
    "outputId": "3f1f7686-0937-4fab-e39f-6ace475dc0a6"
   },
   "outputs": [],
   "source": [
    "test_ds.class_names"
   ]
  },
  {
   "cell_type": "code",
   "execution_count": null,
   "metadata": {
    "id": "OuRHTAKWLOe_"
   },
   "outputs": [],
   "source": [
    "import seaborn as sns\n",
    "from sklearn.metrics import classification_report, confusion_matrix"
   ]
  },
  {
   "cell_type": "code",
   "execution_count": null,
   "metadata": {
    "colab": {
     "base_uri": "https://localhost:8080/"
    },
    "executionInfo": {
     "elapsed": 3077,
     "status": "ok",
     "timestamp": 1618939788007,
     "user": {
      "displayName": "Anupam Kakkar",
      "photoUrl": "",
      "userId": "05029291328344332243"
     },
     "user_tz": -120
    },
    "id": "Umz_2SJ0LOfA",
    "outputId": "c87689e6-bf8e-446a-a69e-0d2ac4c2e84b"
   },
   "outputs": [],
   "source": [
    "def get_test_ds(IMG_HEIGHT, IMG_WIDTH):\n",
    "    dataset = tf.keras.preprocessing.image_dataset_from_directory(\n",
    "                directory=(pathlib.Path(\"/home/home/BuildingAgeSplit_5CLASS\") / \"test\"),\n",
    "                labels=\"inferred\",\n",
    "                label_mode=\"categorical\",\n",
    "                batch_size=32,\n",
    "                image_size=(IMG_HEIGHT, IMG_WIDTH),\n",
    "                shuffle=False,\n",
    "    )\n",
    "    dataset.cache().prefetch(tf.data.experimental.AUTOTUNE)\n",
    "    return dataset\n",
    "test_ds = get_test_ds(240, 240)\n",
    "y_true = np.concatenate([y for x, y in test_ds], axis=0)\n",
    "y_true = np.argmax(y_true, axis=1)\n",
    "y_true"
   ]
  },
  {
   "cell_type": "code",
   "execution_count": null,
   "metadata": {
    "executionInfo": {
     "elapsed": 5223,
     "status": "ok",
     "timestamp": 1618939797010,
     "user": {
      "displayName": "Anupam Kakkar",
      "photoUrl": "",
      "userId": "05029291328344332243"
     },
     "user_tz": -120
    },
    "id": "4b5MXLs4LOfC"
   },
   "outputs": [],
   "source": [
    "Y_pred = building_age_network.model.predict(test_ds)"
   ]
  },
  {
   "cell_type": "code",
   "execution_count": null,
   "metadata": {
    "colab": {
     "base_uri": "https://localhost:8080/",
     "height": 619
    },
    "executionInfo": {
     "elapsed": 3193,
     "status": "ok",
     "timestamp": 1618939797487,
     "user": {
      "displayName": "Anupam Kakkar",
      "photoUrl": "",
      "userId": "05029291328344332243"
     },
     "user_tz": -120
    },
    "id": "olqE3sAzLOfD",
    "outputId": "30e7991d-cd02-4b19-84dc-f86f1704256e"
   },
   "outputs": [],
   "source": [
    "Y_pred = building_age_network.model.predict(test_ds)\n",
    "y_pred = np.argmax(Y_pred, axis=1)\n",
    "print('Confusion Matrix')\n",
    "print(confusion_matrix(y_true, y_pred))\n",
    "cmat = confusion_matrix(y_true, y_pred)\n",
    "sns.set_style(\"whitegrid\")\n",
    "sns.set_palette(\"muted\")\n",
    "sns.heatmap(cmat, annot=True)\n",
    "print('Classification Report')\n",
    "target_names = test_ds.class_names\n",
    "print(classification_report(y_true, y_pred, target_names=target_names))"
   ]
  },
  {
   "cell_type": "code",
   "execution_count": null,
   "metadata": {
    "colab": {
     "base_uri": "https://localhost:8080/",
     "height": 425
    },
    "executionInfo": {
     "elapsed": 1782,
     "status": "ok",
     "timestamp": 1618939814047,
     "user": {
      "displayName": "Anupam Kakkar",
      "photoUrl": "",
      "userId": "05029291328344332243"
     },
     "user_tz": -120
    },
    "id": "xL1DRxXvLOfF",
    "outputId": "a12abd8a-dbb9-404f-a5bd-1a51ed32642f"
   },
   "outputs": [],
   "source": [
    "import numpy as np\n",
    "import pandas as pd\n",
    "import matplotlib.pyplot as plt\n",
    "%matplotlib inline\n",
    "import seaborn as sns\n",
    "from sklearn.metrics import confusion_matrix\n",
    "\n",
    "def plot_cm(y_true, y_pred, class_names, fname, figsize=(5, 5)):\n",
    "    sns.set_style(\"whitegrid\")\n",
    "    sns.set_palette(\"muted\")\n",
    "    y_true = [class_names[y_true[i]] for i in range(len(y_true))]\n",
    "    y_pred = [class_names[y_pred[i]] for i in range(len(y_pred))]\n",
    "    cm = confusion_matrix(y_true, y_pred, labels=np.unique(y_true))\n",
    "    cm_sum = np.sum(cm, axis=1, keepdims=True)\n",
    "    cm_perc = cm / cm_sum.astype(float) * 100\n",
    "    annot = np.empty_like(cm).astype(str)\n",
    "    nrows, ncols = cm.shape\n",
    "    for i in range(nrows):\n",
    "        for j in range(ncols):\n",
    "            c = cm[i, j]\n",
    "            p = cm_perc[i, j]\n",
    "            if i == j:\n",
    "                s = cm_sum[i]\n",
    "                annot[i, j] = '%.1f%%\\n%d/%d' % (p, c, s)\n",
    "            elif c == 0:\n",
    "                annot[i, j] = ''\n",
    "            else:\n",
    "                annot[i, j] = '%.1f%%\\n%d' % (p, c)\n",
    "    cm = pd.DataFrame(cm, index=np.unique(y_true), columns=np.unique(y_true))\n",
    "    cm.index.name = 'Actual'\n",
    "    cm.columns.name = 'Predicted'\n",
    "    fig, ax = plt.subplots(figsize=figsize)\n",
    "    fig.suptitle(\"Confusion Matrix\")\n",
    "    sns.heatmap(cm, cmap=\"coolwarm\", annot=annot, fmt='', ax=ax)\n",
    "    plt.xticks(rotation=90)\n",
    "    plt.yticks(rotation=0)\n",
    "    plt.savefig(fname, bbox_inches=\"tight\")\n",
    "    \n",
    "plot_cm(y_true, y_pred, test_ds.class_names, \"/content/age_b1_5_hmap.png\")"
   ]
  },
  {
   "cell_type": "code",
   "execution_count": null,
   "metadata": {
    "id": "99jl5PrOLOfH"
   },
   "outputs": [],
   "source": [
    "from sklearn.metrics import classification_report, confusion_matrix"
   ]
  },
  {
   "cell_type": "markdown",
   "metadata": {
    "id": "m_tw30bsEqCw"
   },
   "source": [
    "### KT"
   ]
  },
  {
   "cell_type": "code",
   "execution_count": null,
   "metadata": {
    "colab": {
     "base_uri": "https://localhost:8080/"
    },
    "executionInfo": {
     "elapsed": 2831,
     "status": "ok",
     "timestamp": 1618468685670,
     "user": {
      "displayName": "Anupam Kakkar",
      "photoUrl": "",
      "userId": "05029291328344332243"
     },
     "user_tz": -120
    },
    "id": "lWTVcV0SErcq",
    "outputId": "8d7747f3-5460-4f9a-8ac7-f7fd46e3354b"
   },
   "outputs": [],
   "source": [
    "!pip install keras-tuner\n",
    "import kerastuner as kt\n",
    "from kerastuner import HyperModel\n",
    "from kerastuner.tuners import RandomSearch"
   ]
  },
  {
   "cell_type": "code",
   "execution_count": null,
   "metadata": {
    "id": "JzQ5mrZnJXfn"
   },
   "outputs": [],
   "source": [
    "class BuildingAgeHyperModel4C(HyperModel):\n",
    "    def __init__(self, network_idx):\n",
    "        # Define EfficientNet options.\n",
    "        self.image_res_list = [224, 240, 260, 300, 380, 456, 528, 600]\n",
    "        self.network_list = [\n",
    "            \"EfficientNetB0\",\n",
    "            \"EfficientNetB1\",\n",
    "            \"EfficientNetB2\",\n",
    "            \"EfficientNetB3\",\n",
    "            \"EfficientNetB4\",\n",
    "            \"EfficientNetB5\",\n",
    "            \"EfficientNetB6\",\n",
    "            \"EfficientNetB7\",\n",
    "        ]\n",
    "        self.levels_list = [\n",
    "            [\"top\"],\n",
    "            [\"top\", \"block7\"],\n",
    "            [\"top\", \"block7\", \"block6\"],\n",
    "            [\"top\", \"block7\", \"block6\", \"block5\"],\n",
    "            [\"top\", \"block7\", \"block6\", \"block5\", \"block4\"],\n",
    "        ]\n",
    "        self.ds_labels = ['0', '1', '2', '3', '4']\n",
    "        self.num_classes = len(self.ds_labels)\n",
    "        \n",
    "        # Input shape.\n",
    "        self.NUM_CHANNELS = 3\n",
    "        self.network_idx = network_idx\n",
    "    \n",
    "    def get_aug(self):\n",
    "        # Define Image Augmentation Strategies\n",
    "        img_augmentation = tf.keras.models.Sequential(\n",
    "            [\n",
    "                tf.keras.layers.experimental.preprocessing.RandomRotation(factor=0.05),\n",
    "                tf.keras.layers.experimental.preprocessing.RandomFlip(\n",
    "                    mode=\"horizontal\"\n",
    "                ),\n",
    "            ],\n",
    "            name=\"img_augmentation\",\n",
    "        )\n",
    "        # print(\"Image Augmentation strategy defined.\")\n",
    "        return img_augmentation\n",
    "    \n",
    "    def build(self, hp):\n",
    "        # Define hp\n",
    "        network_idx = self.network_idx\n",
    "        levels_idx = hp.Int('levels_idx', min_value=0, max_value=4, step=1)\n",
    "        tl_dropout = hp.Float('tl_dropout', min_value=0.0, max_value=0.5, \n",
    "                              default=0.25, step=0.05)\n",
    "        learning_rate = hp.Float('learning_rate', min_value=1e-5, max_value=1e-2,\n",
    "                                 sampling='LOG',\n",
    "                                 default=1e-3)\n",
    "        print(\"MODEL HP: \", network_idx, levels_idx, tl_dropout, learning_rate)\n",
    "\n",
    "        # Define network.\n",
    "        self.model_name = self.network_list[network_idx]\n",
    "        self.IMG_HEIGHT = self.IMG_WIDTH = self.image_res_list[network_idx]\n",
    "        self.INPUT_SHAPE = (self.IMG_HEIGHT, self.IMG_WIDTH, self.NUM_CHANNELS)\n",
    "\n",
    "        # Define model inputs.\n",
    "        inputs = tf.keras.layers.Input(self.INPUT_SHAPE)\n",
    "        \n",
    "        # Apply data augmentation to inputs.\n",
    "        x = self.get_aug()(inputs)\n",
    "\n",
    "        # Load base model from Keras Applications.\n",
    "        base_model = getattr(tf.keras.applications, self.model_name)(\n",
    "            include_top=False, input_tensor=x, weights=\"imagenet\"\n",
    "        )\n",
    "\n",
    "        # Freeze base model.\n",
    "        base_model.trainable = False\n",
    "\n",
    "        # Set trainable layers, but keep batch norm layers frozen.\n",
    "        for layer in base_model.layers:\n",
    "            if all(\n",
    "                lname not in layer.name for lname in self.levels_list[levels_idx]\n",
    "            ) or isinstance(layer, tf.keras.layers.BatchNormalization):\n",
    "                layer.trainable = False\n",
    "            else:\n",
    "                layer.trainable = True\n",
    "\n",
    "        # Rebuild classifier.\n",
    "        x = tf.keras.layers.GlobalAveragePooling2D(name=\"tl_avgpool\")(base_model.output)\n",
    "        x = tf.keras.layers.Dropout(tl_dropout, name=\"tl_dropout\")(x)\n",
    "        outputs = tf.keras.layers.Dense(\n",
    "            self.num_classes, activation=\"softmax\", name=\"tl_pred\"\n",
    "        )(x)\n",
    "\n",
    "        # Compile model.\n",
    "        model = tf.keras.Model(inputs, outputs, name=self.model_name)\n",
    "        optimizer = tf.keras.optimizers.Adam(learning_rate=learning_rate)\n",
    "        model.compile(\n",
    "            optimizer=optimizer, loss=\"categorical_crossentropy\", metrics=[\"accuracy\"]\n",
    "        )\n",
    "        return model"
   ]
  },
  {
   "cell_type": "code",
   "execution_count": null,
   "metadata": {
    "id": "bHv19wMDRJL1"
   },
   "outputs": [],
   "source": [
    "def make_dataset(ds_path, type, img_size):\n",
    "    print(ds_path / type)\n",
    "    dataset = tf.keras.preprocessing.image_dataset_from_directory(\n",
    "        directory=(ds_path / type),\n",
    "        labels=\"inferred\",\n",
    "        label_mode=\"categorical\",\n",
    "        shuffle=True,\n",
    "        image_size=img_size,\n",
    "    )\n",
    "    dataset.cache().prefetch(tf.data.experimental.AUTOTUNE)\n",
    "    return dataset"
   ]
  },
  {
   "cell_type": "code",
   "execution_count": null,
   "metadata": {
    "id": "W_dBOgFkUALp"
   },
   "outputs": [],
   "source": [
    "class MyRSTuner(kt.tuners.RandomSearch):\n",
    "    def run_trial(self, trial, *args, **kwargs):\n",
    "        # print(args)\n",
    "        # print(kwargs)\n",
    "        hp = trial.hyperparameters\n",
    "        # kwargs['batch_size'] = hp.Int('batch_size', 16, 64, step=8, default=32)\n",
    "        # kwargs['x'] = kwargs['x'].batch(kwargs['batch_size'])\n",
    "        # kwargs['validation_data'] = kwargs['validation_data'].batch(kwargs['batch_size'])\n",
    "        super(MyRSTuner, self).run_trial(trial, *args, **kwargs)"
   ]
  },
  {
   "cell_type": "code",
   "execution_count": null,
   "metadata": {
    "colab": {
     "base_uri": "https://localhost:8080/"
    },
    "executionInfo": {
     "elapsed": 2590,
     "status": "ok",
     "timestamp": 1618473452089,
     "user": {
      "displayName": "Anupam Kakkar",
      "photoUrl": "",
      "userId": "05029291328344332243"
     },
     "user_tz": -120
    },
    "id": "CNiLX6GZP1nn",
    "outputId": "c1135844-a836-448c-f91a-892d509bfc2d"
   },
   "outputs": [],
   "source": [
    "# B0\n",
    "SEED = 42\n",
    "MAX_TRIALS = 20\n",
    "EXECUTION_PER_TRIAL = 3\n",
    "nw_idx = 0\n",
    "hypermodel = BuildingAgeHyperModel4C(nw_idx)\n",
    "img_size = hypermodel.image_res_list[nw_idx]\n",
    "train_ds = make_dataset(pathlib.Path(\"./data/\"), \"train\", (img_size, img_size))\n",
    "val_ds = make_dataset(pathlib.Path(\"./data\"), \"val\", (img_size, img_size))\n",
    "\n",
    "tuner = MyRSTuner(\n",
    "    hypermodel,\n",
    "    objective='val_accuracy',\n",
    "    seed=SEED,\n",
    "    max_trials=MAX_TRIALS,\n",
    "    executions_per_trial=EXECUTION_PER_TRIAL,\n",
    "    directory='random_search',\n",
    "    project_name='building_age_4C_B0')"
   ]
  },
  {
   "cell_type": "code",
   "execution_count": null,
   "metadata": {
    "colab": {
     "base_uri": "https://localhost:8080/",
     "height": 1000
    },
    "executionInfo": {
     "elapsed": 12177217,
     "status": "error",
     "timestamp": 1618485629326,
     "user": {
      "displayName": "Anupam Kakkar",
      "photoUrl": "",
      "userId": "05029291328344332243"
     },
     "user_tz": -120
    },
    "id": "YRnVjJHgR733",
    "outputId": "38c6d27b-ae00-4cb8-ed51-8e2f9405368f"
   },
   "outputs": [],
   "source": [
    "tuner.search(x=train_ds, validation_data=val_ds, \n",
    "             epochs=25, batch_size=32, \n",
    "             callbacks=[tf.keras.callbacks.EarlyStopping('val_loss', patience=3)])"
   ]
  },
  {
   "cell_type": "code",
   "execution_count": null,
   "metadata": {
    "colab": {
     "base_uri": "https://localhost:8080/"
    },
    "executionInfo": {
     "elapsed": 713,
     "status": "ok",
     "timestamp": 1618485875898,
     "user": {
      "displayName": "Anupam Kakkar",
      "photoUrl": "",
      "userId": "05029291328344332243"
     },
     "user_tz": -120
    },
    "id": "6rm7dDcKRk9r",
    "outputId": "b8b89049-b1d5-4122-8301-7654091ff4c5"
   },
   "outputs": [],
   "source": [
    "x = tuner.results_summary()"
   ]
  },
  {
   "cell_type": "code",
   "execution_count": null,
   "metadata": {
    "colab": {
     "base_uri": "https://localhost:8080/"
    },
    "executionInfo": {
     "elapsed": 829,
     "status": "ok",
     "timestamp": 1618486500589,
     "user": {
      "displayName": "Anupam Kakkar",
      "photoUrl": "",
      "userId": "05029291328344332243"
     },
     "user_tz": -120
    },
    "id": "Cj6zUtUKRqCi",
    "outputId": "0bb30f5c-0c2e-4e41-8867-8da4925b153a"
   },
   "outputs": [],
   "source": [
    "tuner.oracle.get_best_trials()"
   ]
  },
  {
   "cell_type": "markdown",
   "metadata": {
    "id": "zRwm3YS9aH5U"
   },
   "source": [
    "### Best Model HeatMaps and Saliency Maps"
   ]
  },
  {
   "cell_type": "code",
   "execution_count": null,
   "metadata": {
    "executionInfo": {
     "elapsed": 684,
     "status": "ok",
     "timestamp": 1618941720421,
     "user": {
      "displayName": "Anupam Kakkar",
      "photoUrl": "",
      "userId": "05029291328344332243"
     },
     "user_tz": -120
    },
    "id": "Het-qyK8aMiT"
   },
   "outputs": [],
   "source": [
    "def get_test_ds(ds_path, IMG_HEIGHT, IMG_WIDTH):\n",
    "    dataset = tf.keras.preprocessing.image_dataset_from_directory(\n",
    "                directory=(pathlib.Path(ds_path) / \"test\"),\n",
    "                labels=\"inferred\",\n",
    "                label_mode=\"categorical\",\n",
    "                batch_size=32,\n",
    "                image_size=(IMG_HEIGHT, IMG_WIDTH),\n",
    "                shuffle=False,\n",
    "    )\n",
    "    dataset.cache().prefetch(tf.data.experimental.AUTOTUNE)\n",
    "    return dataset"
   ]
  },
  {
   "cell_type": "code",
   "execution_count": null,
   "metadata": {
    "executionInfo": {
     "elapsed": 712,
     "status": "ok",
     "timestamp": 1618941760961,
     "user": {
      "displayName": "Anupam Kakkar",
      "photoUrl": "",
      "userId": "05029291328344332243"
     },
     "user_tz": -120
    },
    "id": "gRarhVYaaUfB"
   },
   "outputs": [],
   "source": [
    "import numpy as np\n",
    "import pandas as pd\n",
    "import matplotlib.pyplot as plt\n",
    "%matplotlib inline\n",
    "import seaborn as sns\n",
    "from sklearn.metrics import confusion_matrix\n",
    "\n",
    "def plot_cm(y_true, y_pred, class_names, fname, figsize=(5, 5)):\n",
    "    sns.set_style(\"whitegrid\")\n",
    "    sns.set_palette(\"muted\")\n",
    "    y_true = [class_names[y_true[i]] for i in range(len(y_true))]\n",
    "    y_pred = [class_names[y_pred[i]] for i in range(len(y_pred))]\n",
    "    cm = confusion_matrix(y_true, y_pred, labels=np.unique(y_true))\n",
    "    cm_sum = np.sum(cm, axis=1, keepdims=True)\n",
    "    cm_perc = cm / cm_sum.astype(float) * 100\n",
    "    annot = np.empty_like(cm).astype(str)\n",
    "    nrows, ncols = cm.shape\n",
    "    for i in range(nrows):\n",
    "        for j in range(ncols):\n",
    "            c = cm[i, j]\n",
    "            p = cm_perc[i, j]\n",
    "            if i == j:\n",
    "                s = cm_sum[i]\n",
    "                annot[i, j] = '%.1f%%\\n%d/%d' % (p, c, s)\n",
    "            elif c == 0:\n",
    "                annot[i, j] = ''\n",
    "            else:\n",
    "                annot[i, j] = '%.1f%%\\n%d' % (p, c)\n",
    "    cm = pd.DataFrame(cm, index=np.unique(y_true), columns=np.unique(y_true))\n",
    "    cm.index.name = 'Actual'\n",
    "    cm.columns.name = 'Predicted'\n",
    "    fig, ax = plt.subplots(figsize=figsize)\n",
    "    fig.suptitle(\"Confusion Matrix\")\n",
    "    sns.heatmap(cm, cmap=\"coolwarm\", annot=annot, fmt='', ax=ax)\n",
    "    plt.xticks(rotation=90)\n",
    "    plt.yticks(rotation=0)\n",
    "    plt.savefig(fname, bbox_inches=\"tight\")"
   ]
  },
  {
   "cell_type": "code",
   "execution_count": null,
   "metadata": {
    "colab": {
     "base_uri": "https://localhost:8080/"
    },
    "executionInfo": {
     "elapsed": 1137,
     "status": "ok",
     "timestamp": 1618941338662,
     "user": {
      "displayName": "Anupam Kakkar",
      "photoUrl": "",
      "userId": "05029291328344332243"
     },
     "user_tz": -120
    },
    "id": "Scw3VOnCbA-H",
    "outputId": "9dbb39a2-67c1-4558-86e4-86941e5a3b51"
   },
   "outputs": [],
   "source": [
    "!ls -lrt /content/drive/MyDrive/anupam/model_runs/bage_runs/class_exp/20210420"
   ]
  },
  {
   "cell_type": "code",
   "execution_count": null,
   "metadata": {
    "colab": {
     "base_uri": "https://localhost:8080/"
    },
    "executionInfo": {
     "elapsed": 49626,
     "status": "ok",
     "timestamp": 1618941699363,
     "user": {
      "displayName": "Anupam Kakkar",
      "photoUrl": "",
      "userId": "05029291328344332243"
     },
     "user_tz": -120
    },
    "id": "2vcoNYvibYi5",
    "outputId": "84b0f5db-6e17-4073-e87d-443b4f7eac9b"
   },
   "outputs": [],
   "source": [
    "# Best Model 3 Class\n",
    "# building_age.EfficientNetB1-LEV-4.weights.26-1.03-0.79.hdf5\n",
    "model3c = BuildingAgeNetwork(1, 0)\n",
    "model3c.build_and_compile_model(True, 4)\n",
    "model3c.model.load_weights(\"/content/drive/MyDrive/anupam/model_runs/bage_runs/class_exp/20210420/building_age.EfficientNetB1-LEV-4.weights.26-1.03-0.79.hdf5\")"
   ]
  },
  {
   "cell_type": "code",
   "execution_count": null,
   "metadata": {
    "colab": {
     "base_uri": "https://localhost:8080/"
    },
    "executionInfo": {
     "elapsed": 3458,
     "status": "ok",
     "timestamp": 1618941753054,
     "user": {
      "displayName": "Anupam Kakkar",
      "photoUrl": "",
      "userId": "05029291328344332243"
     },
     "user_tz": -120
    },
    "id": "3KgqbiYbcVng",
    "outputId": "4808431b-157a-40a7-e930-11845197d951"
   },
   "outputs": [],
   "source": [
    "test_ds = get_test_ds(\"/home/BAv6\", 240, 240)\n",
    "y_true = np.concatenate([y for x, y in test_ds], axis=0)\n",
    "y_true = np.argmax(y_true, axis=1)\n",
    "y_true"
   ]
  },
  {
   "cell_type": "code",
   "execution_count": null,
   "metadata": {
    "colab": {
     "base_uri": "https://localhost:8080/",
     "height": 964
    },
    "executionInfo": {
     "elapsed": 7725,
     "status": "ok",
     "timestamp": 1618941840747,
     "user": {
      "displayName": "Anupam Kakkar",
      "photoUrl": "",
      "userId": "05029291328344332243"
     },
     "user_tz": -120
    },
    "id": "usO2zRl3cvXK",
    "outputId": "3af8c97b-6007-4eb1-ccd4-9f740c127d0f"
   },
   "outputs": [],
   "source": [
    "Y_pred = model3c.model.predict(test_ds)\n",
    "y_pred = np.argmax(Y_pred, axis=1)\n",
    "print('Confusion Matrix')\n",
    "print(confusion_matrix(y_true, y_pred))\n",
    "cmat = confusion_matrix(y_true, y_pred)\n",
    "sns.set_style(\"whitegrid\")\n",
    "sns.set_palette(\"muted\")\n",
    "sns.heatmap(cmat, annot=True)\n",
    "print('Classification Report')\n",
    "target_names = test_ds.class_names\n",
    "print(classification_report(y_true, y_pred, target_names=target_names))\n",
    "plot_cm(y_true, y_pred, test_ds.class_names, \"/content/age_b1_3_hmap_v2.png\")"
   ]
  },
  {
   "cell_type": "code",
   "execution_count": null,
   "metadata": {
    "colab": {
     "base_uri": "https://localhost:8080/"
    },
    "executionInfo": {
     "elapsed": 48848,
     "status": "ok",
     "timestamp": 1618942039665,
     "user": {
      "displayName": "Anupam Kakkar",
      "photoUrl": "",
      "userId": "05029291328344332243"
     },
     "user_tz": -120
    },
    "id": "5cXJk59UdQil",
    "outputId": "8e012696-c547-42c2-f376-d8cc2cbbf927"
   },
   "outputs": [],
   "source": [
    "# Best Model 4 Class\n",
    "# building_age.EfficientNetB1-LEV-4.weights.26-1.03-0.79.hdf5\n",
    "# building_age.EfficientNetB1-LEV-3.weights.23-1.32-0.74.hdf5\n",
    "model4c = BuildingAgeNetwork(1, 1)\n",
    "model4c.build_and_compile_model(True, 3)\n",
    "model4c.model.load_weights(\"/content/drive/MyDrive/anupam/model_runs/bage_runs/class_exp/20210420/building_age.EfficientNetB1-LEV-3.weights.23-1.32-0.74.hdf5\")"
   ]
  },
  {
   "cell_type": "code",
   "execution_count": null,
   "metadata": {
    "colab": {
     "base_uri": "https://localhost:8080/",
     "height": 1000
    },
    "executionInfo": {
     "elapsed": 8846,
     "status": "ok",
     "timestamp": 1618942063065,
     "user": {
      "displayName": "Anupam Kakkar",
      "photoUrl": "",
      "userId": "05029291328344332243"
     },
     "user_tz": -120
    },
    "id": "pU9W-YOkdp4M",
    "outputId": "8dfc6284-ecbd-4f7f-a21f-5c732122c81f"
   },
   "outputs": [],
   "source": [
    "test_ds = get_test_ds(\"/home/home/BuildingAgeSplit_4CLASS\", 240, 240)\n",
    "y_true = np.concatenate([y for x, y in test_ds], axis=0)\n",
    "y_true = np.argmax(y_true, axis=1)\n",
    "print(y_true)\n",
    "\n",
    "Y_pred = model4c.model.predict(test_ds)\n",
    "y_pred = np.argmax(Y_pred, axis=1)\n",
    "print('Confusion Matrix')\n",
    "print(confusion_matrix(y_true, y_pred))\n",
    "cmat = confusion_matrix(y_true, y_pred)\n",
    "sns.set_style(\"whitegrid\")\n",
    "sns.set_palette(\"muted\")\n",
    "sns.heatmap(cmat, annot=True)\n",
    "print('Classification Report')\n",
    "target_names = test_ds.class_names\n",
    "print(classification_report(y_true, y_pred, target_names=target_names))\n",
    "plot_cm(y_true, y_pred, test_ds.class_names, \"/content/age_b1_4_hmap_v2.png\")"
   ]
  },
  {
   "cell_type": "code",
   "execution_count": null,
   "metadata": {
    "colab": {
     "base_uri": "https://localhost:8080/"
    },
    "executionInfo": {
     "elapsed": 47893,
     "status": "ok",
     "timestamp": 1618942178487,
     "user": {
      "displayName": "Anupam Kakkar",
      "photoUrl": "",
      "userId": "05029291328344332243"
     },
     "user_tz": -120
    },
    "id": "jJ0aneAld7-w",
    "outputId": "346b724a-8cb1-47f3-af59-fedf175621dd"
   },
   "outputs": [],
   "source": [
    "# Best Model 5 Class\n",
    "# building_age.EfficientNetB1-LEV-4.weights.26-1.03-0.79.hdf5\n",
    "# building_age.EfficientNetB1-LEV-3.weights.23-1.32-0.74.hdf5\n",
    "# building_age.EfficientNetB1-LEV-3.weights.26-1.36-0.70.hdf5\n",
    "model5c = BuildingAgeNetwork(1, 2)\n",
    "model5c.build_and_compile_model(True, 3)\n",
    "model5c.model.load_weights(\"/content/drive/MyDrive/anupam/model_runs/bage_runs/class_exp/20210420/building_age.EfficientNetB1-LEV-3.weights.26-1.36-0.70.hdf5\")"
   ]
  },
  {
   "cell_type": "code",
   "execution_count": null,
   "metadata": {
    "colab": {
     "base_uri": "https://localhost:8080/",
     "height": 1000
    },
    "executionInfo": {
     "elapsed": 9511,
     "status": "ok",
     "timestamp": 1618942188013,
     "user": {
      "displayName": "Anupam Kakkar",
      "photoUrl": "",
      "userId": "05029291328344332243"
     },
     "user_tz": -120
    },
    "id": "JWoxNH1teGGc",
    "outputId": "ed2fc0e1-0119-4f56-8cc2-44646b70fe22"
   },
   "outputs": [],
   "source": [
    "test_ds = get_test_ds(\"/home/home/BuildingAgeSplit_5CLASS\", 240, 240)\n",
    "y_true = np.concatenate([y for x, y in test_ds], axis=0)\n",
    "y_true = np.argmax(y_true, axis=1)\n",
    "print(y_true)\n",
    "\n",
    "Y_pred = model5c.model.predict(test_ds)\n",
    "y_pred = np.argmax(Y_pred, axis=1)\n",
    "print('Confusion Matrix')\n",
    "print(confusion_matrix(y_true, y_pred))\n",
    "cmat = confusion_matrix(y_true, y_pred)\n",
    "sns.set_style(\"whitegrid\")\n",
    "sns.set_palette(\"muted\")\n",
    "sns.heatmap(cmat, annot=True)\n",
    "print('Classification Report')\n",
    "target_names = test_ds.class_names\n",
    "print(classification_report(y_true, y_pred, target_names=target_names))\n",
    "plot_cm(y_true, y_pred, test_ds.class_names, \"/content/age_b1_5_hmap_v2.png\")"
   ]
  },
  {
   "cell_type": "markdown",
   "metadata": {
    "id": "uAckogoHe1C7"
   },
   "source": [
    "### GradCAM / SaliencyMaps"
   ]
  },
  {
   "cell_type": "code",
   "execution_count": null,
   "metadata": {
    "colab": {
     "base_uri": "https://localhost:8080/"
    },
    "executionInfo": {
     "elapsed": 4619,
     "status": "ok",
     "timestamp": 1618942369169,
     "user": {
      "displayName": "Anupam Kakkar",
      "photoUrl": "",
      "userId": "05029291328344332243"
     },
     "user_tz": -120
    },
    "id": "f-9t05OKe3XQ",
    "outputId": "6a7f27de-9192-4f9f-dfa1-8b5f71dc8c10"
   },
   "outputs": [],
   "source": [
    "!pip install tf-keras-vis"
   ]
  },
  {
   "cell_type": "code",
   "execution_count": null,
   "metadata": {
    "executionInfo": {
     "elapsed": 1122,
     "status": "ok",
     "timestamp": 1618942678889,
     "user": {
      "displayName": "Anupam Kakkar",
      "photoUrl": "",
      "userId": "05029291328344332243"
     },
     "user_tz": -120
    },
    "id": "8lhCgWewfW9F"
   },
   "outputs": [],
   "source": [
    "import numpy as np\n",
    "import tensorflow as tf\n",
    "from tensorflow import keras\n",
    "\n",
    "# Display\n",
    "from IPython.display import Image, display\n",
    "import matplotlib.pyplot as plt\n",
    "import matplotlib.cm as cm"
   ]
  },
  {
   "cell_type": "code",
   "execution_count": null,
   "metadata": {
    "id": "2Pc7VKMkgR0Q"
   },
   "outputs": [],
   "source": [
    "building_age_network.model.summary()"
   ]
  },
  {
   "cell_type": "code",
   "execution_count": null,
   "metadata": {
    "executionInfo": {
     "elapsed": 689,
     "status": "ok",
     "timestamp": 1618942978010,
     "user": {
      "displayName": "Anupam Kakkar",
      "photoUrl": "",
      "userId": "05029291328344332243"
     },
     "user_tz": -120
    },
    "id": "D_NnfHvSglk9"
   },
   "outputs": [],
   "source": [
    "# model_builder = keras.applications.xception.Xception\n",
    "# m = model_builder(weights=\"imagenet\")\n",
    "# m.summary()"
   ]
  },
  {
   "cell_type": "code",
   "execution_count": null,
   "metadata": {
    "executionInfo": {
     "elapsed": 714,
     "status": "ok",
     "timestamp": 1618944343043,
     "user": {
      "displayName": "Anupam Kakkar",
      "photoUrl": "",
      "userId": "05029291328344332243"
     },
     "user_tz": -120
    },
    "id": "GkTUHxwqgPn6"
   },
   "outputs": [],
   "source": [
    "last_conv_layer_name = \"top_activation\"\n",
    "\n",
    "i0 = \"./content/cork1.png\"\n",
    "i1 = \"./content/cork2.png\"\n",
    "i2 = \"./content/cork3.png\"\n",
    "i3 = \"./content/cork4.png\""
   ]
  },
  {
   "cell_type": "code",
   "execution_count": null,
   "metadata": {
    "executionInfo": {
     "elapsed": 670,
     "status": "ok",
     "timestamp": 1618943277829,
     "user": {
      "displayName": "Anupam Kakkar",
      "photoUrl": "",
      "userId": "05029291328344332243"
     },
     "user_tz": -120
    },
    "id": "qv2IRAAfhech"
   },
   "outputs": [],
   "source": [
    "def get_img_array(img_path, size):\n",
    "    # `img` is a PIL image of size 299x299\n",
    "    img = keras.preprocessing.image.load_img(img_path, target_size=size)\n",
    "    # `array` is a float32 Numpy array of shape (299, 299, 3)\n",
    "    array = keras.preprocessing.image.img_to_array(img)\n",
    "    # We add a dimension to transform our array into a \"batch\"\n",
    "    # of size (1, 299, 299, 3)\n",
    "    array = np.expand_dims(array, axis=0)\n",
    "    return array\n",
    "\n",
    "\n",
    "def make_gradcam_heatmap(img_array, model, last_conv_layer_name, pred_index=None):\n",
    "    # First, we create a model that maps the input image to the activations\n",
    "    # of the last conv layer as well as the output predictions\n",
    "    grad_model = tf.keras.models.Model(\n",
    "        [model.inputs], [model.get_layer(last_conv_layer_name).output, model.output]\n",
    "    )\n",
    "\n",
    "    # Then, we compute the gradient of the top predicted class for our input image\n",
    "    # with respect to the activations of the last conv layer\n",
    "    with tf.GradientTape() as tape:\n",
    "        last_conv_layer_output, preds = grad_model(img_array)\n",
    "        if pred_index is None:\n",
    "            pred_index = tf.argmax(preds[0])\n",
    "        class_channel = preds[:, pred_index]\n",
    "\n",
    "    # This is the gradient of the output neuron (top predicted or chosen)\n",
    "    # with regard to the output feature map of the last conv layer\n",
    "    grads = tape.gradient(class_channel, last_conv_layer_output)\n",
    "\n",
    "    # This is a vector where each entry is the mean intensity of the gradient\n",
    "    # over a specific feature map channel\n",
    "    pooled_grads = tf.reduce_mean(grads, axis=(0, 1, 2))\n",
    "\n",
    "    # We multiply each channel in the feature map array\n",
    "    # by \"how important this channel is\" with regard to the top predicted class\n",
    "    # then sum all the channels to obtain the heatmap class activation\n",
    "    last_conv_layer_output = last_conv_layer_output[0]\n",
    "    heatmap = last_conv_layer_output @ pooled_grads[..., tf.newaxis]\n",
    "    heatmap = tf.squeeze(heatmap)\n",
    "\n",
    "    # For visualization purpose, we will also normalize the heatmap between 0 & 1\n",
    "    heatmap = tf.maximum(heatmap, 0) / tf.math.reduce_max(heatmap)\n",
    "    return heatmap.numpy()"
   ]
  },
  {
   "cell_type": "code",
   "execution_count": null,
   "metadata": {
    "executionInfo": {
     "elapsed": 1097,
     "status": "ok",
     "timestamp": 1618943509371,
     "user": {
      "displayName": "Anupam Kakkar",
      "photoUrl": "",
      "userId": "05029291328344332243"
     },
     "user_tz": -120
    },
    "id": "ESw4L6yAiuCz"
   },
   "outputs": [],
   "source": [
    "import tensorflow as tf"
   ]
  },
  {
   "cell_type": "code",
   "execution_count": null,
   "metadata": {
    "colab": {
     "base_uri": "https://localhost:8080/",
     "height": 298
    },
    "executionInfo": {
     "elapsed": 1650,
     "status": "ok",
     "timestamp": 1618944346622,
     "user": {
      "displayName": "Anupam Kakkar",
      "photoUrl": "",
      "userId": "05029291328344332243"
     },
     "user_tz": -120
    },
    "id": "h5HYEw8KhjXm",
    "outputId": "00ae20ee-bb0c-4137-eb46-91eaa88e2609"
   },
   "outputs": [],
   "source": [
    "# Prepare image 1\n",
    "img_array = tf.keras.applications.resnet.preprocess_input(get_img_array(i3, size=(300, 300)))\n",
    "\n",
    "# Remove last layer's softmax\n",
    "building_age_network.model.layers[-1].activation = None\n",
    "\n",
    "# Print what the top predicted class is\n",
    "preds = building_age_network.model.predict(img_array)\n",
    "print(\"Predicted:\", np.argmax(preds))\n",
    "\n",
    "# Generate class activation heatmap\n",
    "heatmap = make_gradcam_heatmap(img_array, building_age_network.model, last_conv_layer_name)\n",
    "\n",
    "# Display heatmap\n",
    "\n",
    "plt.matshow(heatmap)\n",
    "plt.show()"
   ]
  },
  {
   "cell_type": "code",
   "execution_count": null,
   "metadata": {
    "colab": {
     "base_uri": "https://localhost:8080/",
     "height": 258
    },
    "executionInfo": {
     "elapsed": 2038,
     "status": "ok",
     "timestamp": 1618944350705,
     "user": {
      "displayName": "Anupam Kakkar",
      "photoUrl": "",
      "userId": "05029291328344332243"
     },
     "user_tz": -120
    },
    "id": "k_vVS6bfkv42",
    "outputId": "e22d0b23-f235-4046-d365-6ae4996082c0"
   },
   "outputs": [],
   "source": [
    "sns.set_style(\"whitegrid\")\n",
    "sns.set_palette(\"muted\")\n",
    "sns.heatmap(heatmap, cmap=\"coolwarm\", fmt='')\n",
    "plt.xticks([])\n",
    "plt.yticks([])\n",
    "plt.savefig(\"./content/B1_4_gradCAM_3_hmap.png\", bbox_inches=\"tight\")"
   ]
  },
  {
   "cell_type": "code",
   "execution_count": null,
   "metadata": {
    "colab": {
     "base_uri": "https://localhost:8080/",
     "height": 847
    },
    "executionInfo": {
     "elapsed": 6510,
     "status": "ok",
     "timestamp": 1618944358671,
     "user": {
      "displayName": "Anupam Kakkar",
      "photoUrl": "",
      "userId": "05029291328344332243"
     },
     "user_tz": -120
    },
    "id": "-X6Cdk-_j9fh",
    "outputId": "d61e5fc0-dd8b-4d23-b0da-46a283179c6d"
   },
   "outputs": [],
   "source": [
    "def save_and_display_gradcam(img_path, heatmap, cam_path=\"cam.jpg\", alpha=0.75):\n",
    "    # Load the original image\n",
    "    img = keras.preprocessing.image.load_img(img_path)\n",
    "    img = keras.preprocessing.image.img_to_array(img)\n",
    "\n",
    "    # Rescale heatmap to a range 0-255\n",
    "    heatmap = np.uint8(255 * heatmap)\n",
    "\n",
    "    # Use jet colormap to colorize heatmap\n",
    "    jet = cm.get_cmap(\"jet\")\n",
    "\n",
    "    # Use RGB values of the colormap\n",
    "    jet_colors = jet(np.arange(256))[:, :3]\n",
    "    jet_heatmap = jet_colors[heatmap]\n",
    "\n",
    "    # Create an image with RGB colorized heatmap\n",
    "    jet_heatmap = keras.preprocessing.image.array_to_img(jet_heatmap)\n",
    "    jet_heatmap = jet_heatmap.resize((img.shape[1], img.shape[0]))\n",
    "    jet_heatmap = keras.preprocessing.image.img_to_array(jet_heatmap)\n",
    "\n",
    "    # Superimpose the heatmap on original image\n",
    "    superimposed_img = jet_heatmap * alpha + img\n",
    "    superimposed_img = keras.preprocessing.image.array_to_img(superimposed_img)\n",
    "\n",
    "    # Save the superimposed image\n",
    "    superimposed_img.save(cam_path)\n",
    "\n",
    "    # Display Grad CAM\n",
    "    display(Image(cam_path))\n",
    "\n",
    "\n",
    "save_and_display_gradcam(i3, heatmap, './content/B1_4_gradCAM_3.png')"
   ]
  }
 ],
 "metadata": {
  "accelerator": "GPU",
  "colab": {
   "authorship_tag": "ABX9TyNxI3bBNWISRN7mKpVFBqwQ",
   "collapsed_sections": [
    "hgnHmOzhjx0s",
    "3hg6qrYlMsgl",
    "mHeTXOBd91lX",
    "y2bLMx8Kc8bD"
   ],
   "mount_file_id": "1WSY3npTZHxTv37k5x1QQgay93IjjAgpM",
   "name": "eNet_B2_building_age_4C_gradcam.ipynb",
   "provenance": []
  },
  "kernelspec": {
   "display_name": "Python 3",
   "language": "python",
   "name": "python3"
  },
  "language_info": {
   "codemirror_mode": {
    "name": "ipython",
    "version": 3
   },
   "file_extension": ".py",
   "mimetype": "text/x-python",
   "name": "python",
   "nbconvert_exporter": "python",
   "pygments_lexer": "ipython3",
   "version": "3.6.9"
  }
 },
 "nbformat": 4,
 "nbformat_minor": 1
}
